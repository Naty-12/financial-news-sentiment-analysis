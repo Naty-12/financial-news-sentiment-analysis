{
 "cells": [
  {
   "cell_type": "code",
   "execution_count": 1,
   "id": "cf1f40f7",
   "metadata": {},
   "outputs": [],
   "source": [
    "import sys\n",
    "import os\n",
    "\n",
    "# Add the parent directory (project root) to sys.path\n",
    "project_root = os.path.abspath(\"..\")\n",
    "if project_root not in sys.path:\n",
    "    sys.path.append(project_root)"
   ]
  },
  {
   "cell_type": "code",
   "execution_count": 2,
   "id": "2eb93841",
   "metadata": {},
   "outputs": [],
   "source": [
    "import numpy as np\n",
    "import pandas as pd\n",
    "import seaborn as sns\n",
    "import matplotlib.pyplot as plt\n",
    "from textblob import TextBlob"
   ]
  },
  {
   "cell_type": "code",
   "execution_count": 3,
   "id": "54716a4e",
   "metadata": {},
   "outputs": [],
   "source": [
    "df = pd.read_csv('../data/raw_analyst_ratings.csv')"
   ]
  },
  {
   "cell_type": "code",
   "execution_count": 6,
   "id": "1ca2ec11",
   "metadata": {},
   "outputs": [],
   "source": [
    "df_aple = pd.read_csv(f'../data/yfinance_data/AAPL_historical_data.csv')"
   ]
  },
  {
   "cell_type": "code",
   "execution_count": 7,
   "id": "2dd3b20f",
   "metadata": {},
   "outputs": [
    {
     "data": {
      "text/html": [
       "<div>\n",
       "<style scoped>\n",
       "    .dataframe tbody tr th:only-of-type {\n",
       "        vertical-align: middle;\n",
       "    }\n",
       "\n",
       "    .dataframe tbody tr th {\n",
       "        vertical-align: top;\n",
       "    }\n",
       "\n",
       "    .dataframe thead th {\n",
       "        text-align: right;\n",
       "    }\n",
       "</style>\n",
       "<table border=\"1\" class=\"dataframe\">\n",
       "  <thead>\n",
       "    <tr style=\"text-align: right;\">\n",
       "      <th></th>\n",
       "      <th>Unnamed: 0</th>\n",
       "      <th>headline</th>\n",
       "      <th>url</th>\n",
       "      <th>publisher</th>\n",
       "      <th>date</th>\n",
       "      <th>stock</th>\n",
       "    </tr>\n",
       "  </thead>\n",
       "  <tbody>\n",
       "    <tr>\n",
       "      <th>0</th>\n",
       "      <td>0</td>\n",
       "      <td>Stocks That Hit 52-Week Highs On Friday</td>\n",
       "      <td>https://www.benzinga.com/news/20/06/16190091/s...</td>\n",
       "      <td>Benzinga Insights</td>\n",
       "      <td>2020-06-05 10:30:54-04:00</td>\n",
       "      <td>A</td>\n",
       "    </tr>\n",
       "    <tr>\n",
       "      <th>1</th>\n",
       "      <td>1</td>\n",
       "      <td>Stocks That Hit 52-Week Highs On Wednesday</td>\n",
       "      <td>https://www.benzinga.com/news/20/06/16170189/s...</td>\n",
       "      <td>Benzinga Insights</td>\n",
       "      <td>2020-06-03 10:45:20-04:00</td>\n",
       "      <td>A</td>\n",
       "    </tr>\n",
       "    <tr>\n",
       "      <th>2</th>\n",
       "      <td>2</td>\n",
       "      <td>71 Biggest Movers From Friday</td>\n",
       "      <td>https://www.benzinga.com/news/20/05/16103463/7...</td>\n",
       "      <td>Lisa Levin</td>\n",
       "      <td>2020-05-26 04:30:07-04:00</td>\n",
       "      <td>A</td>\n",
       "    </tr>\n",
       "    <tr>\n",
       "      <th>3</th>\n",
       "      <td>3</td>\n",
       "      <td>46 Stocks Moving In Friday's Mid-Day Session</td>\n",
       "      <td>https://www.benzinga.com/news/20/05/16095921/4...</td>\n",
       "      <td>Lisa Levin</td>\n",
       "      <td>2020-05-22 12:45:06-04:00</td>\n",
       "      <td>A</td>\n",
       "    </tr>\n",
       "    <tr>\n",
       "      <th>4</th>\n",
       "      <td>4</td>\n",
       "      <td>B of A Securities Maintains Neutral on Agilent...</td>\n",
       "      <td>https://www.benzinga.com/news/20/05/16095304/b...</td>\n",
       "      <td>Vick Meyer</td>\n",
       "      <td>2020-05-22 11:38:59-04:00</td>\n",
       "      <td>A</td>\n",
       "    </tr>\n",
       "  </tbody>\n",
       "</table>\n",
       "</div>"
      ],
      "text/plain": [
       "   Unnamed: 0                                           headline  \\\n",
       "0           0            Stocks That Hit 52-Week Highs On Friday   \n",
       "1           1         Stocks That Hit 52-Week Highs On Wednesday   \n",
       "2           2                      71 Biggest Movers From Friday   \n",
       "3           3       46 Stocks Moving In Friday's Mid-Day Session   \n",
       "4           4  B of A Securities Maintains Neutral on Agilent...   \n",
       "\n",
       "                                                 url          publisher  \\\n",
       "0  https://www.benzinga.com/news/20/06/16190091/s...  Benzinga Insights   \n",
       "1  https://www.benzinga.com/news/20/06/16170189/s...  Benzinga Insights   \n",
       "2  https://www.benzinga.com/news/20/05/16103463/7...         Lisa Levin   \n",
       "3  https://www.benzinga.com/news/20/05/16095921/4...         Lisa Levin   \n",
       "4  https://www.benzinga.com/news/20/05/16095304/b...         Vick Meyer   \n",
       "\n",
       "                        date stock  \n",
       "0  2020-06-05 10:30:54-04:00     A  \n",
       "1  2020-06-03 10:45:20-04:00     A  \n",
       "2  2020-05-26 04:30:07-04:00     A  \n",
       "3  2020-05-22 12:45:06-04:00     A  \n",
       "4  2020-05-22 11:38:59-04:00     A  "
      ]
     },
     "execution_count": 7,
     "metadata": {},
     "output_type": "execute_result"
    }
   ],
   "source": [
    "df.head()"
   ]
  },
  {
   "cell_type": "code",
   "execution_count": 8,
   "id": "34a1b420",
   "metadata": {},
   "outputs": [
    {
     "data": {
      "text/html": [
       "<div>\n",
       "<style scoped>\n",
       "    .dataframe tbody tr th:only-of-type {\n",
       "        vertical-align: middle;\n",
       "    }\n",
       "\n",
       "    .dataframe tbody tr th {\n",
       "        vertical-align: top;\n",
       "    }\n",
       "\n",
       "    .dataframe thead th {\n",
       "        text-align: right;\n",
       "    }\n",
       "</style>\n",
       "<table border=\"1\" class=\"dataframe\">\n",
       "  <thead>\n",
       "    <tr style=\"text-align: right;\">\n",
       "      <th></th>\n",
       "      <th>Date</th>\n",
       "      <th>Open</th>\n",
       "      <th>High</th>\n",
       "      <th>Low</th>\n",
       "      <th>Close</th>\n",
       "      <th>Adj Close</th>\n",
       "      <th>Volume</th>\n",
       "      <th>Dividends</th>\n",
       "      <th>Stock Splits</th>\n",
       "    </tr>\n",
       "  </thead>\n",
       "  <tbody>\n",
       "    <tr>\n",
       "      <th>0</th>\n",
       "      <td>1980-12-12</td>\n",
       "      <td>0.128348</td>\n",
       "      <td>0.128906</td>\n",
       "      <td>0.128348</td>\n",
       "      <td>0.128348</td>\n",
       "      <td>0.098943</td>\n",
       "      <td>469033600</td>\n",
       "      <td>0.0</td>\n",
       "      <td>0.0</td>\n",
       "    </tr>\n",
       "    <tr>\n",
       "      <th>1</th>\n",
       "      <td>1980-12-15</td>\n",
       "      <td>0.122210</td>\n",
       "      <td>0.122210</td>\n",
       "      <td>0.121652</td>\n",
       "      <td>0.121652</td>\n",
       "      <td>0.093781</td>\n",
       "      <td>175884800</td>\n",
       "      <td>0.0</td>\n",
       "      <td>0.0</td>\n",
       "    </tr>\n",
       "    <tr>\n",
       "      <th>2</th>\n",
       "      <td>1980-12-16</td>\n",
       "      <td>0.113281</td>\n",
       "      <td>0.113281</td>\n",
       "      <td>0.112723</td>\n",
       "      <td>0.112723</td>\n",
       "      <td>0.086898</td>\n",
       "      <td>105728000</td>\n",
       "      <td>0.0</td>\n",
       "      <td>0.0</td>\n",
       "    </tr>\n",
       "    <tr>\n",
       "      <th>3</th>\n",
       "      <td>1980-12-17</td>\n",
       "      <td>0.115513</td>\n",
       "      <td>0.116071</td>\n",
       "      <td>0.115513</td>\n",
       "      <td>0.115513</td>\n",
       "      <td>0.089049</td>\n",
       "      <td>86441600</td>\n",
       "      <td>0.0</td>\n",
       "      <td>0.0</td>\n",
       "    </tr>\n",
       "    <tr>\n",
       "      <th>4</th>\n",
       "      <td>1980-12-18</td>\n",
       "      <td>0.118862</td>\n",
       "      <td>0.119420</td>\n",
       "      <td>0.118862</td>\n",
       "      <td>0.118862</td>\n",
       "      <td>0.091630</td>\n",
       "      <td>73449600</td>\n",
       "      <td>0.0</td>\n",
       "      <td>0.0</td>\n",
       "    </tr>\n",
       "  </tbody>\n",
       "</table>\n",
       "</div>"
      ],
      "text/plain": [
       "         Date      Open      High       Low     Close  Adj Close     Volume  \\\n",
       "0  1980-12-12  0.128348  0.128906  0.128348  0.128348   0.098943  469033600   \n",
       "1  1980-12-15  0.122210  0.122210  0.121652  0.121652   0.093781  175884800   \n",
       "2  1980-12-16  0.113281  0.113281  0.112723  0.112723   0.086898  105728000   \n",
       "3  1980-12-17  0.115513  0.116071  0.115513  0.115513   0.089049   86441600   \n",
       "4  1980-12-18  0.118862  0.119420  0.118862  0.118862   0.091630   73449600   \n",
       "\n",
       "   Dividends  Stock Splits  \n",
       "0        0.0           0.0  \n",
       "1        0.0           0.0  \n",
       "2        0.0           0.0  \n",
       "3        0.0           0.0  \n",
       "4        0.0           0.0  "
      ]
     },
     "execution_count": 8,
     "metadata": {},
     "output_type": "execute_result"
    }
   ],
   "source": [
    "df_aple.head()"
   ]
  },
  {
   "cell_type": "code",
   "execution_count": 11,
   "id": "1a49f9da",
   "metadata": {},
   "outputs": [
    {
     "name": "stdout",
     "output_type": "stream",
     "text": [
      "['A', 'AA', 'AAC', 'AADR', 'AAL', 'AAMC', 'AAME', 'AAN', 'AAOI', 'AAON', 'AAP', 'AAPL', 'AAU', 'AAV', 'AAVL', 'AAWW', 'AAXJ', 'AB', 'ABAC', 'ABAX', 'ABB', 'ABBV', 'ABC', 'ABCB', 'ABCD', 'ABCO', 'ABCW', 'ABDC', 'ABEV', 'ABG', 'ABGB', 'ABIO', 'ABM', 'ABMD', 'ABR', 'ABTL', 'ABX', 'ABY', 'ACAD', 'ACAS', 'ACAT', 'ACC', 'ACCO', 'ACCU', 'ACE', 'ACET', 'ACFC', 'ACFN', 'ACG', 'ACGL', 'ACH', 'ACHC', 'ACHN', 'ACIW', 'ACLS', 'ACM', 'ACMP', 'ACN', 'ACNB', 'ACOR', 'ACP', 'ACPW', 'ACRE', 'ACRX', 'ACSF', 'ACST', 'ACT', 'ACTA', 'ACTG', 'ACTS', 'ACU', 'ACUR', 'ACWI', 'ACWV', 'ACWX', 'ACXM', 'ACY', 'ADAT', 'ADBE', 'ADC', 'ADEP', 'ADES', 'ADGE', 'ADHD', 'ADI', 'ADK', 'ADM', 'ADMA', 'ADMP', 'ADMS', 'ADNC', 'ADP', 'ADPT', 'ADRA', 'ADRD', 'ADRE', 'ADRU', 'ADS', 'ADSK', 'ADT', 'ADTN', 'ADVS', 'ADX', 'ADXS', 'ADZ', 'AE', 'AEB', 'AEC', 'AEE', 'AEG', 'AEGN', 'AEGR', 'AEHR', 'AEIS', 'AEL', 'AEM', 'AEO', 'AEPI', 'AER', 'AERI', 'AES', 'AET', 'AETI', 'AEY', 'AEZS', 'AF', 'AFA', 'AFAM', 'AFB', 'AFC', 'AFCB', 'AFFX', 'AFG', 'AFH', 'AFK', 'AFL', 'AFMD', 'AFOP', 'AFSI', 'AFT', 'AG', 'AGA', 'AGC', 'AGCO', 'AGD', 'AGEN', 'AGF', 'AGG', 'AGII', 'AGIO', 'AGM', 'AGN', 'AGNC', 'AGNCB', 'AGND', 'AGO', 'AGOL', 'AGQ', 'AGRO', 'AGRX', 'AGTC', 'AGU', 'AGX', 'AGYS', 'AHC', 'AHGP', 'AHH', 'AHL', 'AHP', 'AHPI', 'AHT', 'AI', 'AIA', 'AIB', 'AIF', 'AIG', 'AIMC', 'AIN', 'AINC', 'AINV', 'AIQ', 'AIR', 'AIRM', 'AIRT', 'AIT', 'AIV', 'AIXG', 'AIZ', 'AJG', 'AKAM', 'AKAO', 'AKBA', 'AKER', 'AKG', 'AKP', 'AKR', 'AKRX', 'AKS', 'AL', 'ALB', 'ALCO', 'ALD', 'ALDR', 'ALDW', 'ALDX', 'ALE', 'ALEX', 'ALFA', 'ALG', 'ALGN', 'ALGT', 'ALIM', 'ALJ', 'ALK', 'ALKS', 'ALL', 'ALLB', 'ALLE', 'ALLT', 'ALLY', 'ALNY', 'ALOG', 'ALOT', 'ALQA', 'ALR', 'ALSK', 'ALSN', 'ALTR', 'ALTV', 'ALU', 'ALV', 'ALX', 'ALXA', 'ALXN', 'AM', 'AMAG', 'AMAT', 'AMBA', 'AMBC', 'AMBR', 'AMC', 'AMCC', 'AMCF', 'AMCO', 'AMCX', 'AMD', 'AMDA', 'AME', 'AMED', 'AMFW', 'AMGN', 'AMH', 'AMIC', 'AMID', 'AMJ', 'AMKR', 'AMNB', 'AMOT', 'AMOV', 'AMP', 'AMPE', 'AMPH', 'AMPS', 'AMRB', 'AMRC', 'AMRE', 'AMRI', 'AMRK', 'AMRN', 'AMRS', 'AMSC', 'AMSG', 'AMSWA', 'AMT', 'AMTD', 'AMTG', 'AMTX', 'AMWD', 'AMX', 'AMZA', 'AMZG', 'AMZN', 'AN', 'ANAC', 'ANAD', 'ANAT', 'ANCB', 'ANCI', 'ANCX', 'AND', 'ANET', 'ANF', 'ANGI', 'ANGL', 'ANGO', 'ANH', 'ANIP', 'ANSS', 'ANTH', 'ANTM', 'ANV', 'ANW', 'ANY', 'AOD', 'AOI', 'AOK', 'AOL', 'AON', 'AOS', 'AOSL', 'AP', 'APAGF', 'APAM', 'APB', 'APC', 'APEI', 'APF', 'APH', 'API', 'APL', 'APO', 'APOG', 'APOL', 'APP', 'APPY', 'APRI', 'APSA', 'APTO', 'APWC', 'AQQ', 'AQXP', 'AR', 'ARAY', 'ARC', 'ARCB', 'ARCC', 'ARCI', 'ARCO', 'ARCW', 'ARCX', 'ARDC', 'ARDM', 'ARDX', 'ARE', 'ARES', 'AREX', 'ARGS', 'ARGT', 'ARI', 'ARIA', 'ARII', 'ARIS', 'ARKG', 'ARKK', 'ARKQ', 'ARKR', 'ARKW', 'ARL', 'ARLP', 'ARMH', 'ARMK', 'ARNA', 'ARO', 'AROW', 'ARPI', 'ARQL', 'ARR', 'ARRS', 'ARRY', 'ARTNA', 'ARTW', 'ARTX', 'ARW', 'ARWR', 'ASA', 'ASB', 'ASBI', 'ASC', 'ASCMA', 'ASEA', 'ASFI', 'ASGN', 'ASH', 'ASHR', 'ASHS', 'ASMB', 'ASMI', 'ASML', 'ASNA', 'ASPS', 'ASPX', 'ASR', 'ASRV', 'AST', 'ASTC', 'ASTE', 'ASUR', 'ASX', 'ASYS', 'AT', 'ATAX', 'ATE', 'ATEC', 'ATEN', 'ATHM', 'ATHN', 'ATHX', 'ATI', 'ATK', 'ATL', 'ATLC', 'ATLO', 'ATLS', 'ATML', 'ATMP', 'ATNI', 'ATNM', 'ATNY', 'ATRA', 'ATRC', 'ATRI', 'ATRM', 'ATRO', 'ATRS', 'ATSG', 'ATTO', 'ATTU', 'ATU', 'ATV', 'ATVI', 'ATW', 'AU', 'AUBN', 'AUDC', 'AUMA', 'AUMAU', 'AUMN', 'AUPH', 'AUQ', 'AUXL', 'AUY', 'AV', 'AVA', 'AVAL', 'AVAV', 'AVB', 'AVD', 'AVEO', 'AVG', 'AVGO', 'AVH', 'AVHI', 'AVID', 'AVIV', 'AVK', 'AVL', 'AVNR', 'AVNW', 'AVOL', 'AVP', 'AVT', 'AVX', 'AVY', 'AWAY', 'AWF', 'AWH', 'AWI', 'AWK', 'AWP', 'AWR', 'AWRE', 'AWX', 'AXAS', 'AXDX', 'AXE', 'AXGN', 'AXJL', 'AXJS', 'AXL', 'AXLL', 'AXN', 'AXP', 'AXPW', 'AXR', 'AXS', 'AXTA', 'AXTI', 'AXU', 'AXX', 'AYI', 'AYR', 'AZIA', 'AZN', 'AZO', 'AZPN', 'AZZ', 'B', 'BA', 'BAA', 'BAB', 'BABA', 'BABS', 'BABY', 'BAC', 'BAF', 'BAGR', 'BAH', 'BAK', 'BAL', 'BALT', 'BAM', 'BAMM', 'BANC', 'BANF', 'BANR', 'BANX', 'BAP', 'BAR', 'BAS', 'BASI', 'BAX', 'BBBY', 'BBC', 'BBCN', 'BBD', 'BBDO', 'BBF', 'BBG', 'BBGI', 'BBH', 'BBK', 'BBL', 'BBLU', 'BBNK', 'BBOX', 'BBRC', 'BBRY', 'BBSI', 'BBT', 'BBVA', 'BBW', 'BBX', 'BBY', 'BC', 'BCA', 'BCBP', 'BCC', 'BCE', 'BCH', 'BCLI', 'BCO', 'BCOM', 'BCOR', 'BCOV', 'BCPC', 'BCR', 'BCV', 'BDBD', 'BDC', 'BDCL', 'BDCV', 'BDD', 'BDE', 'BDGE', 'BDL', 'BDMS', 'BDR', 'BDSI', 'BDX', 'BEAT', 'BEBE', 'BECN', 'BEE', 'BEL', 'BELFA', 'BEN', 'BEP', 'BERY', 'BF.A', 'BF.B', 'BFAM', 'BFIN', 'BFK', 'BFOR', 'BFR', 'BFS', 'BFY', 'BFZ', 'BG', 'BGB', 'BGC', 'BGCA', 'BGCP', 'BGFV', 'BGG', 'BGH', 'BGI', 'BGR', 'BGSF', 'BGT', 'BGY', 'BH', 'BHB', 'BHBK', 'BHE', 'BHI', 'BHK', 'BHL', 'BHLB', 'BHP', 'BIB', 'BICK', 'BID', 'BIDU', 'BIF', 'BIG', 'BIIB', 'BIK', 'BIL', 'BIN', 'BIND', 'BIO', 'BIOA', 'BIOC', 'BIOD', 'BIOL', 'BIOS', 'BIP', 'BIRT', 'BIS', 'BIT', 'BITA', 'BIV', 'BIZD', 'BJK', 'BJZ', 'BK', 'BKCC', 'BKE', 'BKEP', 'BKEPP', 'BKF', 'BKH', 'BKJ', 'BKK', 'BKMU', 'BKN', 'BKS', 'BKSC', 'BKT', 'BKU', 'BKYF', 'BLCM', 'BLDP', 'BLDR', 'BLE', 'BLH', 'BLIN', 'BLJ', 'BLK', 'BLKB', 'BLL', 'BLOX', 'BLRX', 'BLT', 'BLUE', 'BLV', 'BLVD', 'BLVDU', 'BLW', 'BLX', 'BMA', 'BME', 'BMI', 'BMO', 'BMR', 'BMRC', 'BMRN', 'BMS', 'BMTC', 'BMY', 'BNCL', 'BNCN', 'BND', 'BNDX', 'BNFT', 'BNJ', 'BNO', 'BNS', 'BNSO', 'BNY', 'BOBE', 'BOCH', 'BOFI', 'BOH', 'BOIL', 'BOKF', 'BOM', 'BONA', 'BONE', 'BONT', 'BOOT', 'BORN', 'BOS', 'BOSC', 'BOTA', 'BOTJ', 'BOXC', 'BP', 'BPFH', 'BPFHW', 'BPI', 'BPK', 'BPL', 'BPOP', 'BPOPM', 'BPOPN', 'BPT', 'BPTH', 'BQH', 'BR', 'BRAF', 'BRAQ', 'BRAZ', 'BRC', 'BRCD', 'BRCM', 'BRDR', 'BREW', 'BRF', 'BRFS', 'BRG', 'BRID', 'BRK.A', 'BRK.B', 'BRKL', 'BRKR', 'BRKS', 'BRLI', 'BRO', 'BRP', 'BRSS', 'BRT', 'BRX', 'BRXX', 'BRZU', 'BSAC', 'BSBR', 'BSCG', 'BSCL', 'BSCM', 'BSD', 'BSDM', 'BSE', 'BSET', 'BSF', 'BSFT', 'BSI', 'BSL', 'BSMX', 'BSPM', 'BSQR', 'BSRR', 'BST', 'BSTC', 'BSX', 'BT', 'BTA', 'BTE', 'BTG', 'BTI', 'BTN', 'BTT', 'BTU', 'BTUI', 'BTX', 'BUD', 'BUI', 'BUNL', 'BUNT', 'BURL', 'BUSE', 'BV', 'BVA', 'BVN', 'BVSN', 'BVX', 'BWA', 'BWC', 'BWEN', 'BWFG', 'BWG', 'BWINA', 'BWINB', 'BWLD', 'BWP', 'BWS', 'BWX', 'BWZ', 'BX', 'BXC', 'BXE', 'BXMX', 'BXP', 'BXS', 'BYBK', 'BYD', 'BYFC', 'BZC', 'BZH', 'BZM', 'BZQ', 'C', 'CA', 'CAAS', 'CAB', 'CAC', 'CACGU', 'CACH', 'CACI', 'CACQ', 'CADC', 'CADT', 'CAE', 'CAF', 'CAFE', 'CAG', 'CAJ', 'CAK', 'CAKE', 'CALA', 'CALD', 'CALI', 'CALL', 'CALM', 'CALX', 'CAM', 'CAMP', 'CAMT', 'CANF', 'CAP', 'CAPL', 'CAPN', 'CAR', 'CARA', 'CARB', 'CARO', 'CART', 'CARV', 'CARZ', 'CAS', 'CASH', 'CASI', 'CASM', 'CASS', 'CASY', 'CAT', 'CATM', 'CATO', 'CATY', 'CAW', 'CBA', 'CBAK', 'CBAY', 'CBB', 'CBDE', 'CBF', 'CBFV', 'CBG', 'CBIN', 'CBK', 'CBLI', 'CBM', 'CBMG', 'CBMX', 'CBNJ', 'CBNK', 'CBON', 'CBPO', 'CBPX', 'CBR', 'CBRX', 'CBS.A', 'CBSH', 'CBSHP', 'CBST', 'CBT', 'CBZ', 'CCBG', 'CCC', 'CCCL', 'CCCR', 'CCE', 'CCF', 'CCG', 'CCI', 'CCIH', 'CCJ', 'CCK', 'CCL', 'CCLP', 'CCM', 'CCMP', 'CCNE', 'CCO', 'CCOI', 'CCRN', 'CCS', 'CCSC', 'CCU', 'CCUR', 'CCV', 'CCX', 'CCXE', 'CCXI', 'CDC', 'CDI', 'CDNA', 'CDNS', 'CDR', 'CDTI', 'CDW', 'CDXS', 'CDZI', 'CEA', 'CECE', 'CECO', 'CEE', 'CEL', 'CELGZ', 'CELP', 'CEM', 'CEMB', 'CEMI', 'CEMP', 'CEN', 'CENTA', 'CENX', 'CEO', 'CEQP', 'CERE', 'CERN', 'CERS', 'CERU', 'CETV', 'CEV', 'CEVA', 'CEW', 'CF', 'CFA', 'CFBK', 'CFD', 'CFFI', 'CFFN', 'CFG', 'CFN', 'CFNB', 'CFNL', 'CFO', 'CFP', 'CFR', 'CFRXW', 'CFRXZ', 'CFX', 'CG', 'CGA', 'CGEN', 'CGG', 'CGI', 'CGIX', 'CGNX', 'CGO', 'CGW', 'CH', 'CHA', 'CHCI', 'CHCO', 'CHD', 'CHDN', 'CHE', 'CHEF', 'CHEV', 'CHFC', 'CHFN', 'CHGG', 'CHH', 'CHI', 'CHIE', 'CHII', 'CHIM', 'CHIQ', 'CHIX', 'CHK', 'CHKE', 'CHKP', 'CHL', 'CHLN', 'CHMG', 'CHMI', 'CHMT', 'CHN', 'CHNA', 'CHNR', 'CHOC', 'CHOP', 'CHRS', 'CHRW', 'CHS', 'CHSCM', 'CHSCN', 'CHSCO', 'CHSCP', 'CHSP', 'CHT', 'CHTR', 'CHU', 'CHW', 'CHXF', 'CHY', 'CHYR', 'CI', 'CIA', 'CIB', 'CIDM', 'CIE', 'CIEN', 'CIF', 'CIFC', 'CIG', 'CII', 'CIK', 'CIMT', 'CINF', 'CIO', 'CIR', 'CISG', 'CIU', 'CIVI', 'CIX', 'CIZN', 'CJES', 'CJJD', 'CKEC', 'CKH', 'CKP', 'CKSW', 'CKX', 'CL', 'CLAC', 'CLB', 'CLC', 'CLCT', 'CLD', 'CLDN', 'CLDT', 'CLF', 'CLFD', 'CLGX', 'CLI', 'CLIR', 'CLM', 'CLMS', 'CLMT', 'CLNE', 'CLNT', 'CLNY', 'CLR', 'CLRB', 'CLRO', 'CLRX', 'CLS', 'CLSN', 'CLTX', 'CLUB', 'CLVS', 'CLW', 'CLWT', 'CLX', 'CLY', 'CM', 'CMA', 'CMBS', 'CMC', 'CMCM', 'CMCO', 'CMCSA', 'CMCSK', 'CMCT', 'CMD', 'CME', 'CMF', 'CMFN', 'CMG', 'CMGE', 'CMI', 'CMLP', 'CMN', 'CMP', 'CMRE', 'CMRX', 'CMS', 'CMSB', 'CMTL', 'CMU', 'CNA', 'CNBKA', 'CNC', 'CNCE', 'CNCO', 'CNDA', 'CNDO', 'CNET', 'CNHI', 'CNI', 'CNIT', 'CNK', 'CNMD', 'CNNX', 'CNO', 'CNOB', 'CNP', 'CNQ', 'CNS', 'CNSL', 'CNTF', 'CNTY', 'CNV', 'CNW', 'CNX', 'CNXR', 'CNXT', 'CNY', 'CNYD', 'CO', 'COB', 'COBK', 'COBZ', 'COCO', 'CODE', 'CODI', 'COF', 'COH', 'COHR', 'COHU', 'COKE', 'COL', 'COLB', 'COLM', 'COMM', 'COMT', 'CONE', 'CONN', 'COO', 'COOL', 'COP', 'COPX', 'COR', 'CORE', 'CORI', 'CORN', 'CORR', 'CORT', 'COSI', 'COT', 'COUP', 'COV', 'COVR', 'COVS', 'COW', 'COWN', 'CP', 'CPA', 'CPAC', 'CPAH', 'CPB', 'CPE', 'CPF', 'CPG', 'CPGI', 'CPHC', 'CPHD', 'CPHI', 'CPHR', 'CPIX', 'CPK', 'CPL', 'CPLA', 'CPN', 'CPRT', 'CPRX', 'CPS', 'CPSI', 'CPSS', 'CPST', 'CPT', 'CPTA', 'CQH', 'CQP', 'CR', 'CRAI', 'CRAY', 'CRBN', 'CRBQ', 'CRC', 'CRCM', 'CRD.A', 'CRDC', 'CRDS', 'CRDT', 'CRED', 'CREE', 'CREG', 'CRESY', 'CRF', 'CRH', 'CRIS', 'CRK', 'CRL', 'CRM', 'CRMD', 'CRME', 'CRMT', 'CRNT', 'CROC', 'CROP', 'CROX', 'CRR', 'CRRC', 'CRRS', 'CRS', 'CRT', 'CRTN', 'CRTO', 'CRUS', 'CRV', 'CRVP', 'CRWN', 'CRWS', 'CRY', 'CRZO', 'CS', 'CSBK', 'CSC', 'CSCO', 'CSD', 'CSFL', 'CSG', 'CSGP', 'CSH', 'CSII', 'CSIQ', 'CSJ', 'CSL', 'CSLT', 'CSM', 'CSOD', 'CSPI', 'CSQ', 'CSRE', 'CSS', 'CST', 'CSTE', 'CSUN', 'CSV', 'CSX', 'CTAS', 'CTBI', 'CTCT', 'CTF', 'CTG', 'CTHR', 'CTIB', 'CTL', 'CTLT', 'CTNN', 'CTO', 'CTR', 'CTRE', 'CTRL', 'CTRX', 'CTS', 'CTSH', 'CTSO', 'CTT', 'CTV', 'CTWS', 'CTXS', 'CU', 'CUB', 'CUBA', 'CUBI', 'CUI', 'CUK', 'CUNB', 'CUO', 'CUR', 'CURE', 'CUT', 'CUZ', 'CVA', 'CVBF', 'CVC', 'CVCO', 'CVCY', 'CVD', 'CVE', 'CVEO', 'CVG', 'CVGI', 'CVGW', 'CVLT', 'CVLY', 'CVM', 'CVOL', 'CVR', 'CVRR', 'CVS', 'CVSL', 'CVTI', 'CVU', 'CVV', 'CVY', 'CW', 'CWAY', 'CWB', 'CWCO', 'CWEI', 'CWI', 'CWT', 'CX', 'CXA', 'CXDC', 'CXE', 'CXH', 'CXO', 'CXP', 'CXW', 'CY', 'CYAN', 'CYB', 'CYBE', 'CYBR', 'CYBX', 'CYCC', 'CYCCP', 'CYD', 'CYH', 'CYN', 'CYNI', 'CYOU', 'CYRN', 'CYS', 'CYT', 'CYTK', 'CYTR', 'CYTX', 'CZA', 'CZFC', 'CZNC', 'CZWI', 'CZZ', 'D', 'DAC', 'DAEG', 'DAG', 'DAIO', 'DAKP', 'DAKT', 'DAL', 'DAN', 'DANG', 'DAR', 'DARA', 'DATA', 'DATE', 'DAX', 'DB', 'DBA', 'DBAW', 'DBB', 'DBBR', 'DBC', 'DBD', 'DBE', 'DBEF', 'DBEM', 'DBEU', 'DBEZ', 'DBGR', 'DBJP', 'DBL', 'DBMX', 'DBO', 'DBP', 'DBS', 'DBU', 'DBUK', 'DBV', 'DBVT', 'DCA', 'DCI', 'DCIX', 'DCM', 'DCO', 'DCOM', 'DCT', 'DD', 'DDC', 'DDD', 'DDF', 'DDG', 'DDM', 'DDP', 'DDR', 'DDS', 'DDT', 'DE', 'DECK', 'DEE', 'DEF', 'DEG', 'DEJ', 'DEL', 'DEM', 'DENN', 'DEO', 'DEPO', 'DEST', 'DEW', 'DEX', 'DF', 'DFE', 'DFJ', 'DFP', 'DFRG', 'DFS', 'DFT', 'DG', 'DGAS', 'DGAZ', 'DGI', 'DGICA', 'DGICB', 'DGII', 'DGL', 'DGLY', 'DGP', 'DGRE', 'DGRO', 'DGRS', 'DGRW', 'DGS', 'DGSE', 'DGT', 'DGX', 'DGZ', 'DHF', 'DHI', 'DHIL', 'DHR', 'DHRM', 'DHT', 'DHX', 'DIA', 'DIAX', 'DIG', 'DIN', 'DIOD', 'DIS', 'DISCA', 'DISCB', 'DISCK', 'DISH', 'DIT', 'DIVI', 'DIVY', 'DJCO', 'DJP', 'DK', 'DKL', 'DKS', 'DKT', 'DLA', 'DLB', 'DLBL', 'DLHC', 'DLN', 'DLNG', 'DLPH', 'DLR', 'DLS', 'DLTR', 'DLX', 'DM', 'DMB', 'DMD', 'DMF', 'DMLP', 'DMND', 'DMO', 'DMRC', 'DNB', 'DNBF', 'DNKN', 'DNL', 'DNN', 'DNO', 'DNOW', 'DNP', 'DNR', 'DO', 'DOC', 'DOD', 'DOG', 'DOL', 'DOM', 'DON', 'DOO', 'DOOR', 'DOV', 'DOVR', 'DOW', 'DOX', 'DPK', 'DPLO', 'DPM', 'DPRX', 'DPU', 'DPW', 'DPZ', 'DQ', 'DRAD', 'DRAM', 'DRC', 'DRD', 'DRE', 'DRI', 'DRII', 'DRIV', 'DRL', 'DRNA', 'DRQ', 'DRR', 'DRRX', 'DRV', 'DRW', 'DRWI', 'DRYS', 'DSCI', 'DSCO', 'DSE', 'DSI', 'DSKX', 'DSKY', 'DSLV', 'DSM', 'DST', 'DSU', 'DSUM', 'DSWL', 'DSX', 'DTD', 'DTE', 'DTF', 'DTH', 'DTLK', 'DTN', 'DTO', 'DTSI', 'DTV', 'DTYL', 'DUC', 'DUK', 'DUST', 'DV', 'DVA', 'DVAX', 'DVCR', 'DVD', 'DVN', 'DVP', 'DVY', 'DVYE', 'DW', 'DWA', 'DWAS', 'DWAT', 'DWCH', 'DWM', 'DWRE', 'DWSN', 'DWTI', 'DWX', 'DX', 'DXB', 'DXCM', 'DXD', 'DXGE', 'DXJ', 'DXJF', 'DXJR', 'DXJS', 'DXKW', 'DXM', 'DXPS', 'DXR', 'DXYN', 'DY', 'DYAX', 'DYN', 'DYNT', 'DYSL', 'DYY', 'DZZ', 'E', 'EA', 'EAC', 'EAD', 'EARN', 'EAT', 'EBAY', 'EBF', 'EBIO', 'EBIX', 'EBMT', 'EBR', 'EBR.B', 'EBS', 'EBSB', 'EBTC', 'EC', 'ECA', 'ECC', 'ECF', 'ECH', 'ECNS', 'ECOL', 'ECOM', 'ECON', 'ECPG', 'ECR', 'ECT', 'ECTE', 'ECYT', 'ED', 'EDAP', 'EDC', 'EDD', 'EDE', 'EDEN', 'EDF', 'EDI', 'EDIV', 'EDN', 'EDR', 'EDS', 'EE', 'EEA', 'EEB', 'EEFT', 'EEHB', 'EEI', 'EELV', 'EEM', 'EEMA', 'EEME', 'EEML', 'EEMV', 'EEP', 'EEQ', 'EEV', 'EFA', 'EFAV', 'EFC', 'EFF', 'EFII', 'EFNL', 'EFOI', 'EFR', 'EFSC', 'EFT', 'EFU', 'EFUT', 'EFV', 'EFX', 'EFZ', 'EGAN', 'EGAS', 'EGBN', 'EGHT', 'EGI', 'EGL', 'EGLE', 'EGLT', 'EGN', 'EGO', 'EGOV', 'EGP', 'EGPT', 'EGRW', 'EGRX', 'EGT', 'EGY', 'EHI', 'EHIC', 'EHTH', 'EIA', 'EIDO', 'EIG', 'EIGI', 'EIM', 'EIO', 'EIP', 'EIRL', 'EIS', 'EIV', 'EJ', 'EL', 'ELD', 'ELGX', 'ELLI', 'ELLO', 'ELMD', 'ELNK', 'ELON', 'ELOS', 'ELRC', 'ELS', 'ELSE', 'ELTK', 'ELX', 'ELY', 'EMAG', 'EMAN', 'EMB', 'EMBB', 'EMCB', 'EMCD', 'EMCF', 'EMCG', 'EMCI', 'EMCR', 'EMD', 'EMDI', 'EME', 'EMES', 'EMEY', 'EMF', 'EMFM', 'EMHY', 'EMI', 'EMIF', 'EMJ', 'EML', 'EMLP', 'EMMS', 'EMN', 'EMO', 'EMQ', 'EMQQ', 'EMR', 'EMSA', 'EMXX', 'ENB', 'ENBL', 'ENDP', 'ENFC', 'ENFR', 'ENG', 'ENGN', 'ENH', 'ENI', 'ENL', 'ENLC', 'ENLK', 'ENOC', 'ENOR', 'ENPH', 'ENR', 'ENRJ', 'ENS', 'ENSG', 'ENSV', 'ENT', 'ENTA', 'ENTG', 'ENTR', 'ENVA', 'ENVI', 'ENX', 'ENY', 'ENZ', 'ENZL', 'ENZN', 'ENZY', 'EOC', 'EOD', 'EOG', 'EOI', 'EOPN', 'EOS', 'EOT', 'EOX', 'EPAM', 'EPAX', 'EPE', 'EPHE', 'EPI', 'EPIQ', 'EPM', 'EPOL', 'EPP', 'EPR', 'EPRS', 'EPS', 'EPU', 'EPV', 'EPZM', 'EQAL', 'EQC', 'EQIX', 'EQM', 'EQS', 'EQT', 'EQY', 'ERA', 'ERB', 'ERC', 'ERF', 'ERIC', 'ERIE', 'ERII', 'ERJ', 'ERO', 'EROS', 'ERS', 'ERUS', 'ERX', 'ERY', 'ESBF', 'ESBK', 'ESCA', 'ESCR', 'ESE', 'ESEA', 'ESGR', 'ESI', 'ESIO', 'ESL', 'ESLT', 'ESMC', 'ESNT', 'ESP', 'ESPR', 'ESR', 'ESRT', 'ESRX', 'ESS', 'ESSA', 'ESSX', 'ESTE', 'ESV', 'ESYS', 'ETAK', 'ETB', 'ETE', 'ETF', 'ETFC', 'ETG', 'ETH', 'ETM', 'ETN', 'ETO', 'ETP', 'ETR', 'ETRM', 'ETV', 'ETW', 'ETX', 'ETY', 'EU', 'EUDG', 'EUFN', 'EUFX', 'EUM', 'EUMV', 'EUO', 'EURL', 'EUSA', 'EV', 'EVAL', 'EVAR', 'EVBS', 'EVDY', 'EVEP', 'EVER', 'EVF', 'EVG', 'EVGN', 'EVHC', 'EVI', 'EVJ', 'EVK', 'EVLV', 'EVM', 'EVN', 'EVO', 'EVOK', 'EVOL', 'EVP', 'EVR', 'EVRY', 'EVT', 'EVTC', 'EVV', 'EVX', 'EVY', 'EW', 'EWA', 'EWBC', 'EWC', 'EWCS', 'EWD', 'EWG', 'EWGS', 'EWH', 'EWHS', 'EWI', 'EWJ', 'EWK', 'EWL', 'EWM', 'EWN', 'EWO', 'EWP', 'EWQ', 'EWSS', 'EWT', 'EWU', 'EWUS', 'EWV', 'EWW', 'EWY', 'EWZ', 'EXA', 'EXAM', 'EXAR', 'EXE', 'EXEL', 'EXFO', 'EXG', 'EXI', 'EXK', 'EXL', 'EXLP', 'EXLS', 'EXP', 'EXPD', 'EXPE', 'EXPO', 'EXR', 'EXT', 'EXTR', 'EXXI', 'EYES', 'EZA', 'EZM', 'EZPW', 'EZU', 'F', 'FAB', 'FAC', 'FAF', 'FAM', 'FANG', 'FARM', 'FARO', 'FAS', 'FAST', 'FATE', 'FAV', 'FAX', 'FAZ', 'FB', 'FBC', 'FBHS', 'FBIZ', 'FBMS', 'FBND', 'FBNK', 'FBP', 'FBR', 'FBSS', 'FBT', 'FBZ', 'FCA', 'FCAN', 'FCAP', 'FCAU', 'FCB', 'FCBC', 'FCCO', 'FCE.A', 'FCEL', 'FCF', 'FCFS', 'FCG', 'FCH', 'FCHI', 'FCLF', 'FCN', 'FCNCA', 'FCO', 'FCOM', 'FCOR', 'FCS', 'FCSC', 'FCT', 'FCX', 'FDD', 'FDEF', 'FDI', 'FDIS', 'FDL', 'FDM', 'FDML', 'FDN', 'FDO', 'FDP', 'FDS', 'FDTS', 'FDUS', 'FDX', 'FE', 'FEI', 'FEIC', 'FEIM', 'FELE', 'FELP', 'FEM', 'FEMS', 'FEN', 'FENG', 'FENY', 'FEO', 'FEP', 'FES', 'FET', 'FEU', 'FEX', 'FEYE', 'FEZ', 'FF', 'FFA', 'FFBC', 'FFC', 'FFG', 'FFHL', 'FFIN', 'FFKT', 'FFNM', 'FFR', 'FGB', 'FGEN', 'FGM', 'FGP', 'FHCO', 'FHK', 'FHLC', 'FHN', 'FHY', 'FI', 'FIBK', 'FICO', 'FIDU', 'FIF', 'FIG', 'FILL', 'FINL', 'FINU', 'FINZ', 'FIS', 'FISH', 'FISI', 'FISV', 'FITB', 'FITBI', 'FIVE', 'FIVN', 'FIW', 'FIX', 'FIZZ', 'FJP', 'FKO', 'FKU', 'FL', 'FLAT', 'FLC', 'FLEX', 'FLIC', 'FLIR', 'FLL', 'FLM', 'FLML', 'FLN', 'FLO', 'FLOT', 'FLR', 'FLS', 'FLT', 'FLTB', 'FLTR', 'FLTX', 'FLWS', 'FLXN', 'FLXS', 'FLY', 'FM', 'FMBI', 'FMC', 'FMD', 'FMER', 'FMI', 'FMK', 'FMN', 'FMNB', 'FMO', 'FMS', 'FMX', 'FMY', 'FN', 'FNB', 'FNBC', 'FNCL', 'FNDA', 'FNDF', 'FNDX', 'FNF', 'FNFG', 'FNFV', 'FNHC', 'FNI', 'FNJN', 'FNK', 'FNLC', 'FNRG', 'FNSR', 'FNV', 'FNX', 'FOE', 'FOF', 'FOIL', 'FOLD', 'FOMX', 'FONE', 'FONR', 'FOR', 'FORD', 'FORM', 'FORR', 'FORTY', 'FORX', 'FOSL', 'FOX', 'FOXA', 'FOXF', 'FPE', 'FPF', 'FPI', 'FPL', 'FPO', 'FPRX', 'FPT', 'FPX', 'FR', 'FRA', 'FRAK', 'FRAN', 'FRBA', 'FRBK', 'FRC', 'FRD', 'FRED', 'FREE', 'FRI', 'FRM', 'FRME', 'FRN', 'FRO', 'FRP', 'FRPH', 'FRPT', 'FRS', 'FRSH', 'FSAM', 'FSBK', 'FSBW', 'FSC', 'FSFG', 'FSGI', 'FSI', 'FSIC', 'FSL', 'FSLR', 'FSM', 'FSNN', 'FSP', 'FSRV', 'FSS', 'FSTR', 'FSYS', 'FSZ', 'FT', 'FTA', 'FTC', 'FTCS', 'FTD', 'FTEK', 'FTF', 'FTI', 'FTK', 'FTLS', 'FTNT', 'FTR', 'FTSL', 'FTSM', 'FTT', 'FUD', 'FUE', 'FUEL', 'FUL', 'FULL', 'FULT', 'FUN', 'FUNC', 'FUND', 'FUR', 'FUTY', 'FV', 'FVD', 'FVE', 'FVL', 'FWDB', 'FWM', 'FWP', 'FWRD', 'FWV', 'FXA', 'FXB', 'FXC', 'FXCB', 'FXCM', 'FXD', 'FXF', 'FXG', 'FXH', 'FXI', 'FXL', 'FXN', 'FXO', 'FXP', 'FXR', 'FXS', 'FXSG', 'FXY', 'FXZ', 'FYC', 'FYLD', 'G', 'GAA', 'GAB', 'GABC', 'GAI', 'GAIA', 'GAIN', 'GAINO', 'GAL', 'GALE', 'GALT', 'GALTU', 'GAM', 'GARS', 'GAS', 'GAZ', 'GB', 'GBAB', 'GBB', 'GBCI', 'GBDC', 'GBIM', 'GBL', 'GBLI', 'GBNK', 'GBR', 'GBSN', 'GBX', 'GCA', 'GCAP', 'GCBC', 'GCC', 'GCH', 'GCI', 'GCO', 'GCV', 'GCVRZ', 'GD', 'GDAY', 'GDEF', 'GDF', 'GDL', 'GDO', 'GDOT', 'GDP', 'GDV', 'GDX', 'GDXJ', 'GEF', 'GEF.B', 'GEL', 'GENE', 'GEO', 'GEOS', 'GER', 'GERN', 'GEUR', 'GEVA', 'GEVO', 'GEX', 'GF', 'GFA', 'GFED', 'GFF', 'GFI', 'GFIG', 'GFNCP', 'GFY', 'GG', 'GGAC', 'GGB', 'GGE', 'GGG', 'GGM', 'GGN', 'GGOV', 'GGP', 'GGT', 'GGZ', 'GHC', 'GHDX', 'GHI', 'GHL', 'GHM', 'GHY', 'GIB', 'GIFI', 'GIG', 'GIGA', 'GIGM', 'GII', 'GIII', 'GIL', 'GILD', 'GILT', 'GIM', 'GIMO', 'GIS', 'GK', 'GKNT', 'GLAD', 'GLBS', 'GLBZ', 'GLD', 'GLDC', 'GLDX', 'GLF', 'GLL', 'GLMD', 'GLNG', 'GLOB', 'GLOG', 'GLOP', 'GLP', 'GLPW', 'GLQ', 'GLRE', 'GLRI', 'GLT', 'GLTR', 'GLU', 'GLUU', 'GLV', 'GLYC', 'GM', 'GMAN', 'GMCR', 'GME', 'GMED', 'GMF', 'GMFS', 'GMK', 'GMLP', 'GMM', 'GMO', 'GMOM', 'GMT', 'GMZ', 'GNBC', 'GNC', 'GNCA', 'GNCMA', 'GNE', 'GNI', 'GNMA', 'GNMK', 'GNRC', 'GNTX', 'GNVC', 'GNW', 'GOF', 'GOGO', 'GOL', 'GOLD', 'GOMO', 'GOODN', 'GOODO', 'GOODP', 'GOOG', 'GOOGL', 'GORO', 'GOV', 'GOVT', 'GPC', 'GPI', 'GPIC', 'GPK', 'GPL', 'GPM', 'GPN', 'GPOR', 'GPRE', 'GPRK', 'GPRO', 'GPS', 'GPT', 'GPX', 'GQRE', 'GRAM', 'GRBK', 'GRC', 'GREK', 'GRF', 'GRFS', 'GRH', 'GRI', 'GRIF', 'GRMN', 'GRN', 'GRO', 'GRPN', 'GRR', 'GRT', 'GRU', 'GRUB', 'GRVY', 'GRX', 'GSAT', 'GSB', 'GSBC', 'GSC', 'GSH', 'GSI', 'GSIT', 'GSK', 'GSL', 'GSOL', 'GSP', 'GSS', 'GST', 'GSVC', 'GSY', 'GTAA', 'GTE', 'GTI', 'GTIM', 'GTIV', 'GTLS', 'GTS', 'GTT', 'GTU', 'GTWN', 'GTXI', 'GTY', 'GUID', 'GULF', 'GULTU', 'GUR', 'GURE', 'GURU', 'GURX', 'GUT', 'GVA', 'GVAL', 'GVI', 'GVP', 'GWB', 'GWGH', 'GWL', 'GWPH', 'GWR', 'GWRE', 'GWW', 'GWX', 'GXC', 'GXF', 'GXG', 'GXP', 'GY', 'GYEN', 'GZT', 'H', 'HA', 'HABT', 'HACK', 'HAE', 'HAFC', 'HAIN', 'HAL', 'HALL', 'HALO', 'HAP', 'HAR', 'HAS', 'HASI', 'HAWK', 'HAWKB', 'HAYN', 'HBAN', 'HBCP', 'HBHC', 'HBI', 'HBIO', 'HBK', 'HBM', 'HBMD', 'HBNC', 'HBNK', 'HBOS', 'HBP', 'HCA', 'HCAC', 'HCAP', 'HCBK', 'HCC', 'HCCI', 'HCHC', 'HCI', 'HCKT', 'HCLP', 'HCN', 'HCOM', 'HCP', 'HCSG', 'HCT', 'HD', 'HDB', 'HDGE', 'HDNG', 'HDP', 'HDRA', 'HDRAU', 'HDS', 'HDSN', 'HDV', 'HDY', 'HE', 'HEAR', 'HEB', 'HEDJ', 'HEES', 'HEI', 'HELE', 'HELI', 'HEOP', 'HEP', 'HERO', 'HEWG', 'HEWJ', 'HEZU', 'HF', 'HFBC', 'HFBL', 'HFC', 'HFFC', 'HFWA', 'HGG', 'HGH', 'HGI', 'HGR', 'HGSH', 'HGT', 'HH', 'HHC', 'HHS', 'HI', 'HIE', 'HIFS', 'HIG', 'HIIQ', 'HIL', 'HILL', 'HILO', 'HIO', 'HIPS', 'HIVE', 'HIW', 'HIX', 'HK', 'HKOR', 'HKTV', 'HL', 'HLIT', 'HLS', 'HLSS', 'HLT', 'HLX', 'HMC', 'HME', 'HMG', 'HMLP', 'HMN', 'HMNY', 'HMPR', 'HMSY', 'HMTV', 'HMY', 'HNH', 'HNI', 'HNNA', 'HNP', 'HNR', 'HNRG', 'HNSN', 'HNT', 'HNW', 'HOFT', 'HOG', 'HOLI', 'HOLX', 'HOMB', 'HOS', 'HOT', 'HOTRW', 'HOV', 'HOVNP', 'HP', 'HPI', 'HPJ', 'HPP', 'HPQ', 'HPS', 'HPT', 'HPTX', 'HPY', 'HQH', 'HQL', 'HQY', 'HRC', 'HRS', 'HRT', 'HRTG', 'HRTX', 'HRZN', 'HSBC', 'HSC', 'HSEA', 'HSGX', 'HSIC', 'HSII', 'HSKA', 'HSNI', 'HSOL', 'HSON', 'HSP', 'HSPX', 'HSTM', 'HSY', 'HT', 'HTA', 'HTBI', 'HTBK', 'HTBX', 'HTCH', 'HTD', 'HTF', 'HTGC', 'HTH', 'HTHT', 'HTLF', 'HTM', 'HTR', 'HTS', 'HTWO', 'HTWR', 'HTY', 'HTZ', 'HUB.A', 'HUBG', 'HUBS', 'HUM', 'HUN', 'HURC', 'HURN', 'HUSA', 'HVB', 'HVT', 'HW', 'HWAY', 'HWBK', 'HWCC', 'HWKN', 'HXL', 'HY', 'HYB', 'HYD', 'HYEM', 'HYG', 'HYGS', 'HYH', 'HYHG', 'HYI', 'HYLD', 'HYLS', 'HYMB', 'HYND', 'HYS', 'HYT', 'HYXU', 'HZNP', 'HZO', 'IACI', 'IAE', 'IAF', 'IAG', 'IAI', 'IAK', 'IART', 'IAT', 'IAU', 'IBB', 'IBCA', 'IBCC', 'IBCP', 'IBIO', 'IBKC', 'IBKR', 'IBLN', 'IBM', 'IBN', 'IBND', 'IBOC', 'IBP', 'IBTX', 'ICA', 'ICAD', 'ICB', 'ICCC', 'ICD', 'ICE', 'ICEL', 'ICF', 'ICFI', 'ICI', 'ICL', 'ICLD', 'ICLN', 'ICLR', 'ICN', 'ICON', 'ICPT', 'ICUI', 'IDA', 'IDHB', 'IDHQ', 'IDI', 'IDLV', 'IDN', 'IDOG', 'IDRA', 'IDSY', 'IDT', 'IDTI', 'IDU', 'IDV', 'IDX', 'IDXJ', 'IDXX', 'IEC', 'IEF', 'IEFA', 'IEI', 'IEMG', 'IEO', 'IEP', 'IESC', 'IEUR', 'IEX', 'IEZ', 'IF', 'IFF', 'IFGL', 'IFMI', 'IFN', 'IFON', 'IFT', 'IFV', 'IG', 'IGA', 'IGC', 'IGE', 'IGF', 'IGHG', 'IGLD', 'IGM', 'IGN', 'IGR', 'IGT', 'IGTE', 'IGU', 'IGV', 'IHC', 'IHDG', 'IHE', 'IHF', 'IHI', 'IHT', 'IHY', 'IID', 'IIF', 'III', 'IIIN', 'IILG', 'IIM', 'IIN', 'IIVI', 'IJH', 'IJJ', 'IJK', 'IJNK', 'IJR', 'IJS', 'IJT', 'IKAN', 'IKGH', 'IKNX', 'IL', 'ILF', 'ILMN', 'ILTB', 'IM', 'IMAX', 'IMDZ', 'IMI', 'IMKTA', 'IMLP', 'IMMU', 'IMN', 'IMNP', 'IMO', 'IMOS', 'IMPR', 'IMPV', 'IMRS', 'IMS', 'IMUC', 'INAP', 'INB', 'INBK', 'INCO', 'INCR', 'INCY', 'IND', 'INDA', 'INDB', 'INDL', 'INDY', 'INF', 'INFA', 'INFI', 'INFN', 'INFU', 'INFY', 'INGN', 'INGR', 'ININ', 'INKM', 'INN', 'INO', 'INOD', 'INP', 'INPH', 'INR', 'INS', 'INSY', 'INTC', 'INTG', 'INTL', 'INTT', 'INTU', 'INTX', 'INUV', 'INVE', 'INVN', 'INVT', 'INWK', 'INXN', 'INXX', 'INY', 'IO', 'IOC', 'IOIL', 'IOSP', 'IOT', 'IP', 'IPAC', 'IPAR', 'IPAS', 'IPB', 'IPCC', 'IPCI', 'IPCM', 'IPD', 'IPDN', 'IPF', 'IPG', 'IPGP', 'IPHS', 'IPI', 'IPK', 'IPKW', 'IPO', 'IPU', 'IPW', 'IPWR', 'IPXL', 'IQDY', 'IQI', 'IQNT', 'IR', 'IRBT', 'IRC', 'IRDM', 'IRDMB', 'IRDMZ', 'IRE', 'IRET', 'IRF', 'IRIX', 'IRL', 'IRMD', 'IROQ', 'IRR', 'IRS', 'IRT', 'IRWD', 'ISBC', 'ISCA', 'ISD', 'ISDR', 'ISF', 'ISG', 'ISH', 'ISIG', 'ISIL', 'ISIS', 'ISL', 'ISLE', 'ISNS', 'ISP', 'ISR', 'ISRA', 'ISRL', 'ISSC', 'ISSI', 'IST', 'ISTB', 'ISTR', 'IT', 'ITA', 'ITB', 'ITC', 'ITCI', 'ITE', 'ITF', 'ITG', 'ITIC', 'ITLT', 'ITLY', 'ITM', 'ITOT', 'ITR', 'ITRI', 'ITRN', 'ITT', 'ITUB', 'ITW', 'IUSB', 'IUSG', 'IUSV', 'IVAC', 'IVAL', 'IVAN', 'IVC', 'IVE', 'IVH', 'IVOP', 'IVR', 'IVV', 'IVW', 'IVZ', 'IWB', 'IWC', 'IWD', 'IWM', 'IWN', 'IWO', 'IWR', 'IWS', 'IWV', 'IX', 'IXC', 'IXJ', 'IXP', 'IXUS', 'IXYS', 'IYC', 'IYE', 'IYF', 'IYG', 'IYJ', 'IYK', 'IYLD', 'IYM', 'IYR', 'IYY', 'IYZ', 'JACK', 'JAH', 'JAKK', 'JASN', 'JASO', 'JAXB', 'JAZZ', 'JBHT', 'JBL', 'JBLU', 'JBR', 'JBSS', 'JBT', 'JCE', 'JCI', 'JCOM', 'JCP', 'JCS', 'JCTCF', 'JD', 'JDD', 'JDST', 'JDSU', 'JEC', 'JEQ', 'JFC', 'JFR', 'JGBD', 'JGBL', 'JGBS', 'JGBT', 'JGH', 'JGW', 'JHI', 'JHS', 'JHX', 'JIVE', 'JJA', 'JJC', 'JJG', 'JJM', 'JJN', 'JJP', 'JJSF', 'JJT', 'JJU', 'JKE', 'JKF', 'JKG', 'JKH', 'JKI', 'JKK', 'JKL', 'JKS', 'JLL', 'JMEI', 'JMI', 'JMLP', 'JMP', 'JNJ', 'JNK', 'JNPR', 'JNS', 'JNUG', 'JO', 'JOB', 'JOBS', 'JOE', 'JOEZ', 'JOF', 'JONE', 'JOUT', 'JOY', 'JPC', 'JPEM', 'JPEP', 'JPGE', 'JPI', 'JPIN', 'JPM', 'JPMV', 'JPNL', 'JPP', 'JPS', 'JQC', 'JRI', 'JRJC', 'JRN', 'JRO', 'JRS', 'JRVR', 'JSC', 'JST', 'JTA', 'JTD', 'JTP', 'JTPY', 'JUNO', 'JUNR', 'JVA', 'JW.A', 'JWN', 'JXI', 'JXSB', 'JYN', 'JYNT', 'K', 'KAI', 'KALU', 'KANG', 'KAR', 'KATE', 'KB', 'KBA', 'KBAL', 'KBE', 'KBH', 'KBIO', 'KBR', 'KBSF', 'KBWB', 'KBWC', 'KBWD', 'KBWI', 'KBWP', 'KBWR', 'KBWY', 'KCAP', 'KCC', 'KCE', 'KCG', 'KCLI', 'KCNY', 'KE', 'KED', 'KEF', 'KEG', 'KELYA', 'KEM', 'KEP', 'KEQU', 'KERX', 'KEX', 'KEY', 'KEYS', 'KEYW', 'KF', 'KFFB', 'KFH', 'KFI', 'KFS', 'KFX', 'KFY', 'KFYP', 'KGC', 'KGJI', 'KHI', 'KIE', 'KIM', 'KIN', 'KINS', 'KIO', 'KIQ', 'KIRK', 'KITE', 'KKD', 'KKR', 'KLAC', 'KLXI', 'KMB', 'KMDA', 'KME', 'KMF', 'KMG', 'KMI', 'KMM', 'KMPR', 'KMT', 'KMX', 'KND', 'KNDI', 'KNL', 'KNM', 'KNOP', 'KNOW', 'KO', 'KODK', 'KOF', 'KOL', 'KOLD', 'KONA', 'KONE', 'KOOL', 'KOP', 'KOPN', 'KORS', 'KORU', 'KOS', 'KOSS', 'KPTI', 'KR', 'KRC', 'KRE', 'KRG', 'KRNY', 'KROO', 'KRU', 'KS', 'KSM', 'KSS', 'KST', 'KSU', 'KT', 'KTCC', 'KTEC', 'KTF', 'KTOS', 'KTWO', 'KUTV', 'KVHI', 'KW', 'KWEB', 'KWR', 'KWT', 'KXI', 'KYE', 'KYN', 'KYO', 'KYTH', 'KZ', 'L', 'LABC', 'LABL', 'LACO', 'LAD', 'LADR', 'LAKE', 'LAMR', 'LANC', 'LAND', 'LARK', 'LAS', 'LAYN', 'LAZ', 'LBAI', 'LBF', 'LBIX', 'LBMH', 'LBRDA', 'LBRDK', 'LBTYA', 'LBTYB', 'LBTYK', 'LBY', 'LCI', 'LCM', 'LCNB', 'LCUT', 'LD', 'LDL', 'LDOS', 'LDP', 'LDR', 'LDRH', 'LE', 'LECO', 'LEDS', 'LEE', 'LEG', 'LEI', 'LEJU', 'LEMB', 'LEN', 'LEN.B', 'LEO', 'LEU', 'LEVY', 'LEVYU', 'LFC', 'LFUS', 'LFVN', 'LG', 'LGCY', 'LGF', 'LGI', 'LGND', 'LH', 'LHCG', 'LII', 'LIME', 'LINC', 'LINE', 'LION', 'LIOX', 'LIQD', 'LIQT', 'LIT', 'LITB', 'LIVE', 'LJPC', 'LKFN', 'LL', 'LLDM', 'LLEM', 'LLEX', 'LLL', 'LLNW', 'LLSC', 'LLTC', 'LLY', 'LM', 'LMAT', 'LMBS', 'LMCA', 'LMCB', 'LMCK', 'LMIA', 'LMLP', 'LMNR', 'LMNX', 'LMOS', 'LMRK', 'LMT', 'LNBB', 'LNC', 'LNCE', 'LNCO', 'LND', 'LNDC', 'LNKD', 'LNN', 'LNT', 'LOAN', 'LOCK', 'LOCM', 'LOCO', 'LODE', 'LOGI', 'LOGM', 'LOJN', 'LONG', 'LOOK', 'LOPE', 'LORL', 'LOV', 'LOW', 'LPCN', 'LPG', 'LPHI', 'LPI', 'LPL', 'LPLA', 'LPNT', 'LPSN', 'LPT', 'LPTH', 'LPTN', 'LPX', 'LQ', 'LQD', 'LRAD', 'LRCX', 'LRE', 'LRN', 'LSBK', 'LSC', 'LSCC', 'LSG', 'LSTR', 'LTBR', 'LTC', 'LTL', 'LTM', 'LTPZ', 'LTRPA', 'LTRPB', 'LTRX', 'LTS', 'LTXB', 'LUB', 'LULU', 'LUV', 'LUX', 'LVL', 'LVLT', 'LVNTA', 'LVNTB', 'LVS', 'LWAY', 'LWC', 'LXFR', 'LXFT', 'LXK', 'LXP', 'LXRX', 'LXU', 'LYB', 'LYTS', 'LYV', 'LZB', 'M', 'MA', 'MAA', 'MAB', 'MAC', 'MACK', 'MAG', 'MAGS', 'MAIN', 'MAMS', 'MAN', 'MANH', 'MANT', 'MAR', 'MARA', 'MARK', 'MARPS', 'MAS', 'MASI', 'MATR', 'MATW', 'MATX', 'MAV', 'MAYS', 'MBB', 'MBCN', 'MBFI', 'MBG', 'MBII', 'MBLX', 'MBLY', 'MBRG', 'MBT', 'MBTF', 'MBUU', 'MBVT', 'MBWM', 'MC', 'MCBC', 'MCC', 'MCD', 'MCF', 'MCGC', 'MCHI', 'MCHP', 'MCHX', 'MCK', 'MCN', 'MCO', 'MCOX', 'MCP', 'MCR', 'MCRI', 'MCRL', 'MCRO', 'MCS', 'MCUR', 'MCV', 'MCY', 'MCZ', 'MD', 'MDAS', 'MDC', 'MDCA', 'MDCO', 'MDD', 'MDGN', 'MDIV', 'MDLY', 'MDLZ', 'MDP', 'MDRX', 'MDSO', 'MDSY', 'MDT', 'MDU', 'MDVN', 'MDVXU', 'MDW', 'MDWD', 'MDXG', 'MDY', 'MDYG', 'MDYV', 'MEA', 'MEET', 'MEG', 'MEI', 'MEIL', 'MEIP', 'MELA', 'MELR', 'MEN', 'MENT', 'MEP', 'MERC', 'MERU', 'MES', 'MET', 'METR', 'MFA', 'MFC', 'MFD', 'MFG', 'MFI', 'MFL', 'MFLX', 'MFM', 'MFNC', 'MFRI', 'MFRM', 'MFSF', 'MFT', 'MFV', 'MG', 'MGA', 'MGCD', 'MGEE', 'MGF', 'MGH', 'MGIC', 'MGK', 'MGLN', 'MGN', 'MGNX', 'MGPI', 'MGR', 'MGRC', 'MGT', 'MGU', 'MGV', 'MHD', 'MHE', 'MHF', 'MHFI', 'MHGC', 'MHH', 'MHI', 'MHK', 'MHN', 'MHNC', 'MHO', 'MHR', 'MIC', 'MICT', 'MIDD', 'MIDU', 'MIDZ', 'MIE', 'MIFI', 'MIK', 'MIL', 'MILL', 'MIN', 'MINC', 'MIND', 'MINI', 'MINT', 'MITL', 'MITT', 'MIW', 'MIXT', 'MIY', 'MJN', 'MKC', 'MKC.V', 'MKL', 'MKSI', 'MKTO', 'MKTX', 'MLAB', 'MLHR', 'MLM', 'MLN', 'MLNK', 'MLNX', 'MLP', 'MLPA', 'MLPJ', 'MLPL', 'MLPX', 'MLR', 'MLVF', 'MM', 'MMAC', 'MMC', 'MMD', 'MMI', 'MMLP', 'MMM', 'MMP', 'MMS', 'MMSI', 'MMT', 'MMU', 'MMV', 'MMYT', 'MNA', 'MNE', 'MNGA', 'MNI', 'MNK', 'MNKD', 'MNOV', 'MNP', 'MNR', 'MNRK', 'MNRO', 'MNST', 'MNTA', 'MNTX', 'MO', 'MOAT', 'MOBI', 'MOBL', 'MOC', 'MOCO', 'MOD', 'MODN', 'MOFG', 'MOG.A', 'MOG.B', 'MOH', 'MOKO', 'MOLG', 'MOMO', 'MON', 'MONY', 'MOO', 'MORE', 'MORN', 'MOS', 'MOV', 'MPA', 'MPAA', 'MPB', 'MPC', 'MPEL', 'MPET', 'MPLX', 'MPO', 'MPV', 'MPW', 'MPWR', 'MPX', 'MQT', 'MQY', 'MRC', 'MRCC', 'MRCY', 'MRD', 'MRGR', 'MRH', 'MRIN', 'MRK', 'MRKT', 'MRLN', 'MRNS', 'MRO', 'MRTN', 'MRVC', 'MRVL', 'MS', 'MSA', 'MSB', 'MSBF', 'MSC', 'MSCC', 'MSCI', 'MSEX', 'MSF', 'MSFG', 'MSG', 'MSI', 'MSLI', 'MSM', 'MSN', 'MSO', 'MSON', 'MSP', 'MSTR', 'MSTX', 'MT', 'MTB', 'MTBC', 'MTD', 'MTDR', 'MTEX', 'MTG', 'MTGE', 'MTH', 'MTK', 'MTLS', 'MTN', 'MTOR', 'MTR', 'MTRN', 'MTRX', 'MTS', 'MTSC', 'MTSI', 'MTSL', 'MTSN', 'MTT', 'MTU', 'MTUM', 'MTW', 'MU', 'MUA', 'MUB', 'MUC', 'MUE', 'MUH', 'MUS', 'MUSA', 'MVC', 'MVF', 'MVG', 'MVIS', 'MVNR', 'MVO', 'MW', 'MWA', 'MWE', 'MWIV', 'MWV', 'MX', 'MXC', 'MXF', 'MXI', 'MXIM', 'MXL', 'MXWL', 'MY', 'MYC', 'MYCC', 'MYD', 'MYE', 'MYF', 'MYGN', 'MYI', 'MYJ', 'MYL', 'MYN', 'MYOS', 'MYRG', 'MYY', 'MZF', 'MZOR', 'MZZ', 'NAC', 'NAD', 'NADL', 'NAII', 'NAK', 'NAME', 'NAN', 'NANO', 'NAO', 'NAP', 'NAT', 'NATH', 'NATI', 'NATL', 'NAUH', 'NAV', 'NAVB', 'NAVI', 'NAZ', 'NBBC', 'NBG', 'NBH', 'NBHC', 'NBIX', 'NBL', 'NBN', 'NBO', 'NBR', 'NBS', 'NBTB', 'NBTF', 'NBY', 'NC', 'NCA', 'NCB', 'NCFT', 'NCI', 'NCIT', 'NCLH', 'NCMI', 'NCQ', 'NCR', 'NCTY', 'NCZ', 'NDAQ', 'NDLS', 'NDP', 'NDRO', 'NDSN', 'NE', 'NEA', 'NECB', 'NEE', 'NEM', 'NEN', 'NEO', 'NEOG', 'NEOT', 'NEP', 'NEPT', 'NERV', 'NES', 'NETE', 'NEU', 'NEWM', 'NEWP', 'NEWS', 'NEWT', 'NFBK', 'NFEC', 'NFG', 'NFJ', 'NFLX', 'NFO', 'NFRA', 'NFX', 'NG', 'NGD', 'NGE', 'NGG', 'NGHC', 'NGHCP', 'NGL', 'NGLS', 'NGS', 'NGVC', 'NHC', 'NHF', 'NHI', 'NHS', 'NHTB', 'NI', 'NIB', 'NICE', 'NICK', 'NID', 'NILE', 'NIM', 'NIO', 'NIQ', 'NJ', 'NJR', 'NJV', 'NKA', 'NKG', 'NKSH', 'NKTR', 'NKX', 'NKY', 'NL', 'NLNK', 'NLR', 'NLS', 'NLSN', 'NLST', 'NLY', 'NM', 'NMBL', 'NMI', 'NMIH', 'NML', 'NMM', 'NMO', 'NMR', 'NMRX', 'NMS', 'NMT', 'NMY', 'NMZ', 'NNA', 'NNC', 'NNI', 'NNN', 'NNVC', 'NNY', 'NOA', 'NOAH', 'NOBL', 'NOC', 'NOG', 'NOK', 'NOM', 'NOR', 'NORD', 'NORW', 'NOV', 'NOW', 'NP', 'NPBC', 'NPD', 'NPK', 'NPO', 'NPP', 'NPSP', 'NPTN', 'NPV', 'NR', 'NRCIA', 'NRCIB', 'NRF', 'NRG', 'NRIM', 'NRK', 'NRO', 'NRP', 'NRT', 'NRX', 'NRZ', 'NS', 'NSAM', 'NSC', 'NSEC', 'NSH', 'NSIT', 'NSL', 'NSM', 'NSP', 'NSPH', 'NSPR', 'NSR', 'NSSC', 'NSTG', 'NTAP', 'NTES', 'NTG', 'NTGR', 'NTI', 'NTIC', 'NTIP', 'NTK', 'NTL', 'NTLS', 'NTN', 'NTP', 'NTRS', 'NTRSP', 'NTT', 'NTWK', 'NTX', 'NU', 'NUAN', 'NUO', 'NURO', 'NUTR', 'NUV', 'NUVA', 'NUW', 'NVAX', 'NVCN', 'NVDA', 'NVDQ', 'NVEC', 'NVEE', 'NVFY', 'NVG', 'NVGN', 'NVGS', 'NVMI', 'NVO', 'NVR', 'NVRO', 'NVS', 'NVSL', 'NVX', 'NWBI', 'NWBO', 'NWE', 'NWFL', 'NWHM', 'NWL', 'NWLI', 'NWN', 'NWPX', 'NWS', 'NWSA', 'NWY', 'NXJ', 'NXN', 'NXP', 'NXPI', 'NXQ', 'NXR', 'NXST', 'NXTD', 'NXTDW', 'NXTM', 'NYCB', 'NYF', 'NYH', 'NYLD', 'NYMT', 'NYMTP', 'NYMX', 'NYNY', 'NYRT', 'NYT', 'NYV', 'NZF', 'O', 'OAK', 'OAKS', 'OAS', 'OB', 'OBCI', 'OC', 'OCC', 'OCFC', 'OCIP', 'OCIR', 'OCLR', 'OCLS', 'OCN', 'OCR', 'OCRX', 'OCUL', 'ODC', 'ODP', 'OEC', 'OEF', 'OESX', 'OFC', 'OFED', 'OFG', 'OFIX', 'OFLX', 'OFS', 'OGCP', 'OGE', 'OGEN', 'OGS', 'OGXI', 'OHAI', 'OHGI', 'OHI', 'OHRP', 'OI', 'OIA', 'OIBR', 'OIH', 'OIIM', 'OILT', 'OIS', 'OKE', 'OKS', 'OKSB', 'OLED', 'OLEM', 'OLN', 'OLO', 'OLP', 'OMAB', 'OMAM', 'OMC', 'OMCL', 'OME', 'OMED', 'OMER', 'OMEX', 'OMG', 'OMI', 'OMN', 'ONB', 'ONCY', 'ONE', 'ONEF', 'ONEQ', 'ONFC', 'ONNN', 'ONP', 'ONTX', 'ONTY', 'ONVI', 'ONVO', 'OPB', 'OPHC', 'OPHT', 'OPK', 'OPOF', 'OPTT', 'OPWR', 'OPXA', 'OPY', 'ORAN', 'ORB', 'ORBC', 'ORBK', 'ORCL', 'OREX', 'ORI', 'ORIG', 'ORIT', 'ORLY', 'ORM', 'ORN', 'ORPN', 'ORRF', 'OSBC', 'OSGB', 'OSHC', 'OSIR', 'OSIS', 'OSK', 'OSM', 'OSN', 'OSTK', 'OSUR', 'OTEL', 'OTEX', 'OTIC', 'OTIV', 'OTTR', 'OUTR', 'OVBC', 'OVLY', 'OVTI', 'OWW', 'OXBR', 'OXFD', 'OXLC', 'OXLCO', 'OXM', 'OXY', 'OZM', 'OZRK', 'P', 'PAA', 'PAAS', 'PACB', 'PACD', 'PACW', 'PAF', 'PAG', 'PAGG', 'PAGP', 'PAH', 'PAHC', 'PAI', 'PAL', 'PALL', 'PAM', 'PANL', 'PANW', 'PAR', 'PARN', 'PARR', 'PATK', 'PAY', 'PAYC', 'PAYX', 'PB', 'PBA', 'PBCP', 'PBCT', 'PBD', 'PBE', 'PBF', 'PBFX', 'PBH', 'PBHC', 'PBI', 'PBIB', 'PBIP', 'PBJ', 'PBM', 'PBMD', 'PBPB', 'PBR', 'PBR.A', 'PBS', 'PBSK', 'PBT', 'PBW', 'PBY', 'PBYI', 'PCEF', 'PCF', 'PCG', 'PCH', 'PCI', 'PCL', 'PCLN', 'PCM', 'PCMI', 'PCN', 'PCO', 'PCOM', 'PCP', 'PCQ', 'PCRX', 'PCTI', 'PCTY', 'PCY', 'PCYC', 'PCYG', 'PCYO', 'PDCE', 'PDCO', 'PDEX', 'PDFS', 'PDI', 'PDII', 'PDLI', 'PDN', 'PDP', 'PDS', 'PDT', 'PE', 'PEBK', 'PEBO', 'PED', 'PEG', 'PEGI', 'PEI', 'PEIX', 'PEJ', 'PEK', 'PENN', 'PENX', 'PEO', 'PEOP', 'PEP', 'PER', 'PERF', 'PERI', 'PERM', 'PERY', 'PES', 'PESI', 'PETM', 'PETS', 'PETX', 'PEY', 'PEZ', 'PF', 'PFBC', 'PFBI', 'PFBX', 'PFD', 'PFE', 'PFF', 'PFG', 'PFI', 'PFIE', 'PFIG', 'PFK', 'PFL', 'PFLT', 'PFM', 'PFMT', 'PFN', 'PFNX', 'PFO', 'PFPT', 'PFS', 'PFSI', 'PFSW', 'PFX', 'PFXF', 'PG', 'PGAL', 'PGC', 'PGEM', 'PGF', 'PGHY', 'PGI', 'PGJ', 'PGM', 'PGN', 'PGNX', 'PGP', 'PGR', 'PGRE', 'PGTI', 'PGX', 'PGZ', 'PH', 'PHB', 'PHD', 'PHDG', 'PHF', 'PHG', 'PHH', 'PHI', 'PHII', 'PHIIK', 'PHK', 'PHM', 'PHMD', 'PHO', 'PHT', 'PHX', 'PICB', 'PICO', 'PID', 'PIE', 'PIH', 'PII', 'PIM', 'PINC', 'PIO', 'PIP', 'PIR', 'PIZ', 'PJC', 'PJP', 'PKB', 'PKBK', 'PKD', 'PKE', 'PKG', 'PKI', 'PKO', 'PKOH', 'PKW', 'PKX', 'PKY', 'PLAB', 'PLAY', 'PLBC', 'PLCE', 'PLCM', 'PLKI', 'PLM', 'PLMT', 'PLND', 'PLNR', 'PLOW', 'PLPC', 'PLPM', 'PLT', 'PLTM', 'PLUG', 'PLUS', 'PLW', 'PLX', 'PLXS', 'PMBC', 'PMC', 'PMCS', 'PMD', 'PME', 'PMF', 'PMFG', 'PML', 'PMM', 'PMO', 'PMR', 'PMT', 'PMX', 'PNBK', 'PNC', 'PNF', 'PNFP', 'PNI', 'PNK', 'PNM', 'PNNT', 'PNQI', 'PNR', 'PNRA', 'PNRG', 'PNTR', 'PNX', 'PODD', 'POL', 'POM', 'POOL', 'POPE', 'POR', 'POST', 'POT', 'POWI', 'POWL', 'POWR', 'POZN', 'PPA', 'PPBI', 'PPC', 'PPG', 'PPH', 'PPHM', 'PPHMP', 'PPL', 'PPLT', 'PPO', 'PPP', 'PPR', 'PPS', 'PPSI', 'PPT', 'PQ', 'PRAA', 'PRAH', 'PRAN', 'PRB', 'PRCP', 'PRE', 'PRF', 'PRFT', 'PRGN', 'PRGO', 'PRGS', 'PRGX', 'PRI', 'PRIM', 'PRK', 'PRKR', 'PRLB', 'PRLS', 'PRMW', 'PRO', 'PROV', 'PRPH', 'PRQR', 'PRSC', 'PRSS', 'PRTK', 'PRTO', 'PRTS', 'PRU', 'PRXI', 'PRXL', 'PRY', 'PSA', 'PSAU', 'PSBH', 'PSCC', 'PSCD', 'PSCE', 'PSCF', 'PSCH', 'PSCI', 'PSCU', 'PSDV', 'PSEC', 'PSEM', 'PSG', 'PSI', 'PSIX', 'PSK', 'PSL', 'PSLV', 'PSO', 'PSP', 'PSQ', 'PSR', 'PSTB', 'PSTI', 'PSTR', 'PSUN', 'PSXP', 'PT', 'PTBI', 'PTC', 'PTCT', 'PTEN', 'PTF', 'PTIE', 'PTLA', 'PTM', 'PTN', 'PTNR', 'PTP', 'PTR', 'PTRY', 'PTSI', 'PTX', 'PUI', 'PUK', 'PULB', 'PVA', 'PVCT', 'PVG', 'PVH', 'PVI', 'PVTB', 'PW', 'PWC', 'PWE', 'PWOD', 'PWR', 'PWRD', 'PWV', 'PWX', 'PWZ', 'PXD', 'PXE', 'PXF', 'PXH', 'PXJ', 'PXLG', 'PXLV', 'PXMC', 'PXMG', 'PXQ', 'PXR', 'PXSC', 'PXSV', 'PZA', 'PZC', 'PZE', 'PZG', 'PZI', 'PZN', 'PZT', 'PZZA', 'Q', 'QADA', 'QAI', 'QAT', 'QBAK', 'QCAN', 'QCCO', 'QCLN', 'QCOM', 'QDEF', 'QDEM', 'QDF', 'QDXU', 'QDYN', 'QEFA', 'QEH', 'QEM', 'QEMM', 'QEP', 'QEPM', 'QGBR', 'QGEN', 'QID', 'QIHU', 'QIWI', 'QKLS', 'QKOR', 'QLD', 'QLGC', 'QLIK', 'QLTB', 'QLTC', 'QLTI', 'QLTY', 'QLYS', 'QQEW', 'QQQ', 'QQQE', 'QQQX', 'QQXT', 'QRHC', 'QRVO', 'QSII', 'QSR', 'QTEC', 'QTM', 'QTNT', 'QTS', 'QTWN', 'QTWO', 'QTWW', 'QUAD', 'QUAL', 'QUIK', 'QUMU', 'QUNR', 'QURE', 'QVAL', 'QVCA', 'QVCB', 'QWLD', 'QXUS', 'QYLD', 'R', 'RAD', 'RADA', 'RAI', 'RAIL', 'RALY', 'RAND', 'RARE', 'RAS', 'RATE', 'RAVE', 'RAVI', 'RAVN', 'RAX', 'RBA', 'RBC', 'RBCAA', 'RBCN', 'RBL', 'RBPAA', 'RBS', 'RBY', 'RCAP', 'RCD', 'RCG', 'RCI', 'RCII', 'RCKY', 'RCL', 'RCMT', 'RCON', 'RCPI', 'RCPT', 'RDC', 'RDCM', 'RDEN', 'RDHL', 'RDI', 'RDIB', 'RDIV', 'RDN', 'RDNT', 'RDS.A', 'RDUS', 'RDVY', 'RDWR', 'RDY', 'RE', 'RECN', 'REE', 'REED', 'REFR', 'REG', 'REGI', 'REGN', 'REI', 'REIS', 'RELL', 'RELV', 'REM', 'REMX', 'REMY', 'REN', 'RENN', 'RENT', 'REPH', 'RES', 'RESI', 'RESN', 'RETL', 'REV', 'REW', 'REX', 'REXI', 'REXR', 'REXX', 'REZ', 'RF', 'RFG', 'RFIL', 'RFP', 'RFT', 'RFV', 'RGA', 'RGCO', 'RGDO', 'RGDX', 'RGEN', 'RGI', 'RGLD', 'RGLS', 'RGP', 'RGR', 'RGS', 'RGSE', 'RGT', 'RH', 'RHI', 'RHP', 'RHS', 'RHT', 'RIBT', 'RIC', 'RICE', 'RICK', 'RIF', 'RIG', 'RIGL', 'RIGP', 'RIGS', 'RING', 'RIO', 'RIOM', 'RIT', 'RITT', 'RIVR', 'RJA', 'RJET', 'RJF', 'RJI', 'RJZ', 'RKT', 'RKUS', 'RL', 'RLD', 'RLGT', 'RLGY', 'RLH', 'RLI', 'RLJ', 'RLJE', 'RLOC', 'RLOG', 'RLY', 'RLYP', 'RM', 'RMAX', 'RMBS', 'RMCF', 'RMD', 'RMGN', 'RMP', 'RMTI', 'RNA', 'RNDY', 'RNET', 'RNF', 'RNG', 'RNN', 'RNP', 'RNR', 'RNST', 'RNWK', 'ROBO', 'ROC', 'ROCK', 'ROG', 'ROIAK', 'ROIC', 'ROIQ', 'ROIQU', 'ROIQW', 'ROK', 'ROKA', 'ROL', 'ROLL', 'ROOF', 'ROP', 'RORO', 'ROSE', 'ROVI', 'ROX', 'ROYL', 'RP', 'RPAI', 'RPM', 'RPRX', 'RPRXW', 'RPRXZ', 'RPT', 'RPTP', 'RPV', 'RPX', 'RQI', 'RRC', 'RRD', 'RRGB', 'RRST', 'RRTS', 'RSE', 'RSG', 'RSH', 'RSO', 'RSP', 'RSPP', 'RST', 'RSTI', 'RSX', 'RSXJ', 'RSYS', 'RT', 'RTEC', 'RTGN', 'RTH', 'RTI', 'RTIX', 'RTK', 'RTM', 'RTR', 'RTRX', 'RUBI', 'RUK', 'RUSHA', 'RUSHB', 'RUSL', 'RUSS', 'RUTH', 'RVBD', 'RVLT', 'RVM', 'RVNC', 'RVNU', 'RVP', 'RVSB', 'RVT', 'RWC', 'RWL', 'RWLK', 'RWM', 'RWO', 'RWR', 'RWT', 'RWV', 'RWW', 'RWX', 'RWXL', 'RXD', 'RXDX', 'RXI', 'RXII', 'RXL', 'RYAAY', 'RYAM', 'RYE', 'RYH', 'RYI', 'RYJ', 'RYL', 'RYT', 'RYU', 'RZG', 'S', 'SA', 'SAA', 'SAAS', 'SABR', 'SAEX', 'SAFM', 'SAGE', 'SAGG', 'SAIA', 'SAIC', 'SAJA', 'SAL', 'SALM', 'SALT', 'SAM', 'SAMG', 'SAN', 'SAND', 'SANM', 'SANW', 'SAPE', 'SAR', 'SARA', 'SATS', 'SAVE', 'SB', 'SBAC', 'SBB', 'SBBX', 'SBCF', 'SBGI', 'SBGL', 'SBI', 'SBIO', 'SBLK', 'SBNY', 'SBR', 'SBRAP', 'SBS', 'SBSA', 'SBUX', 'SBY', 'SC', 'SCAI', 'SCC', 'SCCO', 'SCD', 'SCG', 'SCHA', 'SCHB', 'SCHC', 'SCHD', 'SCHE', 'SCHF', 'SCHG', 'SCHH', 'SCHL', 'SCHM', 'SCHN', 'SCHP', 'SCHV', 'SCHW', 'SCHX', 'SCHZ', 'SCI', 'SCIF', 'SCJ', 'SCL', 'SCLN', 'SCM', 'SCMP', 'SCO', 'SCOK', 'SCPB', 'SCS', 'SCSC', 'SCSS', 'SCTY', 'SCU', 'SCVL', 'SCX', 'SCYX', 'SCZ', 'SD', 'SDD', 'SDLP', 'SDOG', 'SDOW', 'SDP', 'SDPI', 'SDR', 'SDRL', 'SDT', 'SDY', 'SE', 'SEAC', 'SEAS', 'SEB', 'SEE', 'SEED', 'SEIC', 'SEM', 'SEMG', 'SEMI', 'SENEA', 'SENEB', 'SERV', 'SEV', 'SF', 'SFB', 'SFBC', 'SFBS', 'SFE', 'SFG', 'SFL', 'SFLA', 'SFLY', 'SFM', 'SFN', 'SFNC', 'SFS', 'SFUN', 'SFXE', 'SFY', 'SGA', 'SGAR', 'SGB', 'SGBK', 'SGC', 'SGDM', 'SGEN', 'SGF', 'SGG', 'SGM', 'SGMA', 'SGMO', 'SGMS', 'SGNL', 'SGNT', 'SGOC', 'SGOL', 'SGRP', 'SGU', 'SGY', 'SGYP', 'SGYPU', 'SGYPW', 'SH', 'SHG', 'SHI', 'SHIP', 'SHLD', 'SHLO', 'SHLX', 'SHM', 'SHO', 'SHOO', 'SHOR', 'SHOS', 'SHPG', 'SHV', 'SHW', 'SHY', 'SIAL', 'SIBC', 'SID', 'SIEB', 'SIEN', 'SIF', 'SIFI', 'SIFY', 'SIG', 'SIGI', 'SIGM', 'SIJ', 'SIL', 'SILC', 'SIM', 'SIMG', 'SIMO', 'SINA', 'SINO', 'SIR', 'SIRI', 'SIRO', 'SIVB', 'SIVR', 'SIX', 'SIXD', 'SJB', 'SJI', 'SJM', 'SJNK', 'SJR', 'SJT', 'SJW', 'SKBI', 'SKF', 'SKH', 'SKIS', 'SKM', 'SKOR', 'SKT', 'SKUL', 'SKX', 'SKY', 'SKYS', 'SKYW', 'SLB', 'SLCA', 'SLCT', 'SLF', 'SLGN', 'SLH', 'SLI', 'SLM', 'SLMBP', 'SLP', 'SLQD', 'SLRC', 'SLTC', 'SLV', 'SLVP', 'SLW', 'SLX', 'SLXP', 'SLY', 'SLYG', 'SLYV', 'SM', 'SMACU', 'SMB', 'SMBC', 'SMDD', 'SMED', 'SMEZ', 'SMFG', 'SMG', 'SMH', 'SMI', 'SMIN', 'SMIT', 'SMK', 'SMLL', 'SMLP', 'SMLR', 'SMLV', 'SMM', 'SMMF', 'SMN', 'SMP', 'SMPL', 'SMRT', 'SMSI', 'SMTP', 'SMTX', 'SN', 'SNAK', 'SNBC', 'SNC', 'SNCR', 'SNDK', 'SNFCA', 'SNH', 'SNI', 'SNLN', 'SNN', 'SNOW', 'SNP', 'SNPS', 'SNR', 'SNSS', 'SNTA', 'SNV', 'SNX', 'SNY', 'SO', 'SOCL', 'SODA', 'SOFO', 'SOHO', 'SOHU', 'SOL', 'SON', 'SONC', 'SOR', 'SORL', 'SOXL', 'SOXS', 'SOXX', 'SP', 'SPA', 'SPAN', 'SPAR', 'SPB', 'SPCB', 'SPDC', 'SPEX', 'SPF', 'SPFF', 'SPG', 'SPH', 'SPHB', 'SPHQ', 'SPHS', 'SPIL', 'SPKE', 'SPLK', 'SPLP', 'SPLS', 'SPNC', 'SPNS', 'SPOK', 'SPP', 'SPPP', 'SPPR', 'SPPRO', 'SPR', 'SPRO', 'SPRT', 'SPTN', 'SPU', 'SPW', 'SPWH', 'SPWR', 'SPXS', 'SPXU', 'SPXX', 'SPYG', 'SPYV', 'SQBG', 'SQBK', 'SQI', 'SQM', 'SQNM', 'SQNS', 'SQQQ', 'SR', 'SRC', 'SRCE', 'SRCL', 'SRDX', 'SRE', 'SREV', 'SRI', 'SRLN', 'SRLP', 'SRNE', 'SRS', 'SRSC', 'SRT', 'SRTY', 'SRV', 'SSB', 'SSBI', 'SSD', 'SSE', 'SSFN', 'SSH', 'SSI', 'SSL', 'SSLT', 'SSN', 'SSNI', 'SSO', 'SSP', 'SSRG', 'SSRI', 'SSS', 'SSTK', 'SSW', 'SSY', 'SSYS', 'ST', 'STAA', 'STAG', 'STAR', 'STAY', 'STBA', 'STBZ', 'STC', 'STCK', 'STE', 'STEM', 'STFC', 'STI', 'STIP', 'STJ', 'STK', 'STKL', 'STL', 'STLD', 'STLY', 'STM', 'STML', 'STMP', 'STNG', 'STNR', 'STO', 'STON', 'STOR', 'STPZ', 'STR', 'STRA', 'STRL', 'STRM', 'STRN', 'STRS', 'STRT', 'STRZA', 'STRZB', 'STS', 'STWD', 'STX', 'STXS', 'STZ', 'SU', 'SUB', 'SUBK', 'SUI', 'SUN', 'SUNE', 'SUNS', 'SUP', 'SUPN', 'SURG', 'SUSQ', 'SUTR', 'SVA', 'SVBL', 'SVLC', 'SVM', 'SVU', 'SVVC', 'SVXY', 'SWHC', 'SWI', 'SWIR', 'SWK', 'SWM', 'SWN', 'SWSH', 'SWX', 'SWY', 'SWZ', 'SXC', 'SXCP', 'SXE', 'SXI', 'SYA', 'SYBT', 'SYE', 'SYG', 'SYK', 'SYKE', 'SYLD', 'SYMC', 'SYMX', 'SYNA', 'SYNC', 'SYNL', 'SYNT', 'SYPR', 'SYRG', 'SYRX', 'SYT', 'SYUT', 'SYX', 'SYY', 'SZC', 'SZK', 'SZO', 'SZYM', 'T', 'TA', 'TAC', 'TACT', 'TAGS', 'TAHO', 'TAIT', 'TAL', 'TAN', 'TAO', 'TAOM', 'TAP', 'TARO', 'TAS', 'TASR', 'TAST', 'TAT', 'TAX', 'TAXI', 'TAYD', 'TBAR', 'TBBK', 'TBF', 'TBIO', 'TBK', 'TBNK', 'TBPH', 'TBT', 'TC', 'TCAP', 'TCBIP', 'TCBK', 'TCCA', 'TCCO', 'TCFC', 'TCHI', 'TCI', 'TCK', 'TCO', 'TCP', 'TCPC', 'TCPI', 'TCRD', 'TCS', 'TCX', 'TD', 'TDA', 'TDC', 'TDD', 'TDI', 'TDIV', 'TDS', 'TDTF', 'TDTT', 'TDV', 'TDW', 'TDY', 'TE', 'TEAR', 'TECD', 'TECH', 'TECL', 'TECS', 'TECU', 'TEDU', 'TEF', 'TEG', 'TEI', 'TEL', 'TEN', 'TENX', 'TEO', 'TEP', 'TERP', 'TESO', 'TESS', 'TEU', 'TEVA', 'TEX', 'TFG', 'TFM', 'TFSCU', 'TFSL', 'TFX', 'TG', 'TGC', 'TGD', 'TGE', 'TGEN', 'TGH', 'TGP', 'TGS', 'TGT', 'TGTX', 'THC', 'THFF', 'THG', 'THM', 'THOR', 'THR', 'THRM', 'THRX', 'THS', 'THTI', 'TI', 'TICC', 'TIF', 'TIGR', 'TIK', 'TILT', 'TIME', 'TINY', 'TIP', 'TIPT', 'TIPX', 'TIPZ', 'TISA', 'TISI', 'TITN', 'TIVO', 'TJX', 'TKAI', 'TKC', 'TKMR', 'TKR', 'TLF', 'TLH', 'TLI', 'TLK', 'TLL', 'TLLP', 'TLM', 'TLMR', 'TLO', 'TLOG', 'TLP', 'TLR', 'TLT', 'TLTD', 'TLTE', 'TLYS', 'TM', 'TMF', 'TMH', 'TMHC', 'TMK', 'TMO', 'TMP', 'TMUS', 'TMV', 'TNA', 'TNAV', 'TNC', 'TNDM', 'TNDQ', 'TNET', 'TNGO', 'TNH', 'TNK', 'TNP', 'TNXP', 'TOF', 'TOL', 'TOLZ', 'TOO', 'TOPS', 'TORM', 'TOT', 'TOUR', 'TOWN', 'TOWR', 'TPC', 'TPH', 'TPI', 'TPL', 'TPLM', 'TPRE', 'TPUB', 'TPVG', 'TPX', 'TQQQ', 'TR', 'TRAK', 'TRC', 'TRCB', 'TRCH', 'TRCO', 'TREC', 'TREE', 'TREX', 'TRF', 'TRGP', 'TRGT', 'TRI', 'TRIL', 'TRIP', 'TRIV', 'TRK', 'TRLA', 'TRMB', 'TRMK', 'TRMR', 'TRN', 'TRND', 'TRNO', 'TRNS', 'TRNX', 'TROV', 'TROVU', 'TROVW', 'TROW', 'TROX', 'TRP', 'TRQ', 'TRR', 'TRS', 'TRST', 'TRT', 'TRTL', 'TRUE', 'TRUP', 'TRV', 'TRW', 'TRX', 'TRXC', 'TS', 'TSBK', 'TSC', 'TSCO', 'TSEM', 'TSI', 'TSL', 'TSLA', 'TSLF', 'TSLX', 'TSM', 'TSN', 'TSO', 'TSQ', 'TSRA', 'TSRE', 'TSRI', 'TSRO', 'TSS', 'TST', 'TSU', 'TSYS', 'TTC', 'TTEC', 'TTEK', 'TTF', 'TTFS', 'TTGT', 'TTHI', 'TTM', 'TTMI', 'TTOO', 'TTP', 'TTPH', 'TTS', 'TTT', 'TU', 'TUBE', 'TUES', 'TUP', 'TUR', 'TV', 'TVIX', 'TVIZ', 'TVPT', 'TW', 'TWC', 'TWER', 'TWIN', 'TWM', 'TWMC', 'TWN', 'TWO', 'TWOU', 'TWTR', 'TWX', 'TX', 'TXMD', 'TXN', 'TXRH', 'TXT', 'TXTR', 'TY', 'TYC', 'TYD', 'TYG', 'TYL', 'TYO', 'TYPE', 'TZA', 'TZOO', 'UA', 'UACL', 'UAE', 'UAL', 'UAM', 'UAMY', 'UAN', 'UBA', 'UBC', 'UBCP', 'UBFO', 'UBG', 'UBIC', 'UBNK', 'UBOH', 'UBP', 'UBS', 'UBSH', 'UBSI', 'UBT', 'UCBA', 'UCBI', 'UCD', 'UCFC', 'UCI', 'UCO', 'UCP', 'UCTT', 'UDF', 'UDN', 'UDOW', 'UDR', 'UEC', 'UEIC', 'UEPS', 'UFCS', 'UFI', 'UFPI', 'UFPT', 'UFS', 'UG', 'UGAZ', 'UGE', 'UGI', 'UGL', 'UGLD', 'UGP', 'UHN', 'UHS', 'UHT', 'UIHC', 'UIL', 'UIS', 'UJB', 'UL', 'ULBI', 'ULTA', 'ULTI', 'ULTR', 'UMBF', 'UMC', 'UMDD', 'UMPQ', 'UMX', 'UN', 'UNAM', 'UNB', 'UNF', 'UNFI', 'UNG', 'UNH', 'UNIS', 'UNL', 'UNM', 'UNP', 'UNT', 'UNTY', 'UNXL', 'UPIP', 'UPL', 'UPLD', 'UPRO', 'UPS', 'UPV', 'UPW', 'URA', 'URBN', 'URE', 'URG', 'URI', 'URR', 'URZ', 'USA', 'USAC', 'USAG', 'USAK', 'USAP', 'USAT', 'USB', 'USBI', 'USCI', 'USCR', 'USD', 'USDP', 'USDU', 'USEG', 'USFR', 'USG', 'USL', 'USLM', 'USLV', 'USM', 'USMD', 'USMI', 'USNA', 'USO', 'USPH', 'UST', 'USTR', 'UTEK', 'UTF', 'UTG', 'UTHR', 'UTI', 'UTIW', 'UTL', 'UTMD', 'UTSI', 'UUU', 'UUUU', 'UVE', 'UVSP', 'UVV', 'UWM', 'UWN', 'UWTI', 'UYG', 'UYM', 'V', 'VA', 'VAC', 'VAL', 'VALE', 'VALU', 'VAR', 'VAW', 'VB', 'VBF', 'VBFC', 'VBIV', 'VBK', 'VBLT', 'VBR', 'VBTX', 'VC', 'VCEL', 'VCF', 'VCIT', 'VCO', 'VCR', 'VCRA', 'VCSH', 'VCV', 'VCYT', 'VDC', 'VDE', 'VDSI', 'VEA', 'VECO', 'VEEV', 'VEGA', 'VEGI', 'VET', 'VEU', 'VFH', 'VFL', 'VG', 'VGGL', 'VGI', 'VGIT', 'VGK', 'VGLT', 'VGM', 'VGR', 'VGSH', 'VGT', 'VGZ', 'VHC', 'VHT', 'VIA', 'VIAB', 'VIAS', 'VICL', 'VIDE', 'VIEW', 'VIG', 'VII', 'VIIX', 'VIMC', 'VIOG', 'VIP', 'VIPS', 'VIRC', 'VIS', 'VISI', 'VISN', 'VIV', 'VIVO', 'VIXY', 'VJET', 'VKI', 'VKQ', 'VLCCF', 'VLGEA', 'VLO', 'VLP', 'VLRS', 'VLT', 'VLTC', 'VLU', 'VLUE', 'VLY', 'VMBS', 'VMC', 'VMEM', 'VMI', 'VMM', 'VMO', 'VMW', 'VNDA', 'VNET', 'VNM', 'VNO', 'VNOM', 'VNQ', 'VNTV', 'VO', 'VOD', 'VOE', 'VOLC', 'VONV', 'VOO', 'VOOG', 'VOOV', 'VOT', 'VOX', 'VOXX', 'VOYA', 'VPG', 'VPU', 'VRA', 'VRD', 'VRML', 'VRNG', 'VRNS', 'VRNT', 'VRP', 'VRS', 'VRSK', 'VRSN', 'VRTB', 'VRTS', 'VRTU', 'VRTV', 'VRTX', 'VSAR', 'VSAT', 'VSCI', 'VSCP', 'VSEC', 'VSH', 'VSI', 'VSLR', 'VSR', 'VSS', 'VSTM', 'VTAE', 'VTG', 'VTHR', 'VTI', 'VTIP', 'VTL', 'VTN', 'VTR', 'VTSS', 'VTTI', 'VTV', 'VTWG', 'VTWO', 'VTWV', 'VUG', 'VVC', 'VVI', 'VVR', 'VVUS', 'VWO', 'VWOB', 'VXF', 'VXUS', 'VXX', 'VXZ', 'VYFC', 'VYM', 'VZ', 'VZA', 'W', 'WAB', 'WABC', 'WAC', 'WAFD', 'WAGE', 'WAIR', 'WAL', 'WAT', 'WATT', 'WAVX', 'WAYN', 'WB', 'WBA', 'WBAI', 'WBC', 'WBIH', 'WBII', 'WBK', 'WBMD', 'WBS', 'WCC', 'WCG', 'WCN', 'WD', 'WDAY', 'WDC', 'WDFC', 'WDIV', 'WDR', 'WDTI', 'WEBK', 'WEC', 'WEET', 'WEN', 'WERN', 'WEX', 'WEYS', 'WF', 'WFBI', 'WFC', 'WFD', 'WFM', 'WFT', 'WG', 'WGA', 'WGBS', 'WGL', 'WGO', 'WGP', 'WHF', 'WHLM', 'WHLR', 'WHLRP', 'WHR', 'WHX', 'WHZ', 'WIA', 'WIBC', 'WIFI', 'WIL', 'WILC', 'WILN', 'WIN', 'WINA', 'WIP', 'WIRE', 'WIT', 'WITE', 'WIW', 'WIX', 'WLB', 'WLDN', 'WLFC', 'WLH', 'WLK', 'WLL', 'WLRHU', 'WLT', 'WM', 'WMAR', 'WMB', 'WMC', 'WMGI', 'WMK', 'WMLP', 'WMS', 'WMT', 'WNC', 'WNR', 'WNRL', 'WNS', 'WOOD', 'WOR', 'WPC', 'WPCS', 'WPG', 'WPP', 'WPPGY', 'WPRT', 'WPS', 'WPT', 'WPX', 'WPZ', 'WR', 'WRB', 'WRE', 'WRES', 'WRLD', 'WRN', 'WSBC', 'WSBF', 'WSCI', 'WSFS', 'WSH', 'WSM', 'WSO', 'WSR', 'WST', 'WSTC', 'WSTG', 'WSTL', 'WTFC', 'WTM', 'WTR', 'WTS', 'WTSL', 'WTW', 'WU', 'WUBA', 'WVFC', 'WVVI', 'WWAV', 'WWD', 'WWW', 'WYN', 'WYNN', 'WYY', 'X', 'XBI', 'XBKS', 'XCO', 'XCRA', 'XEC', 'XEL', 'XENE', 'XENT', 'XES', 'XGTI', 'XGTIW', 'XHE', 'XHS', 'XIV', 'XL', 'XLB', 'XLE', 'XLF', 'XLG', 'XLI', 'XLK', 'XLP', 'XLRN', 'XLS', 'XLU', 'XLV', 'XLY', 'XME', 'XMLV', 'XMPT', 'XNCR', 'XNET', 'XNY', 'XOM', 'XOMA', 'XON', 'XONE', 'XOOM', 'XOP', 'XOVR', 'XOXO', 'XPH', 'XPL', 'XPLR', 'XPO', 'XPP', 'XRA', 'XRM', 'XRS', 'XRT', 'XRX', 'XSD', 'XSLV', 'XSOE', 'XSW', 'XTLB', 'XTN', 'XUE', 'XXII', 'XXV', 'XYL', 'Y', 'YANG', 'YAO', 'YCS', 'YDKN', 'YDLE', 'YELP', 'YGE', 'YHOO', 'YINN', 'YMLI', 'YNDX', 'YOD', 'YOKU', 'YRCW', 'YUM', 'YUMA', 'YUME', 'YXI', 'YY', 'YYY', 'YZC', 'ZA', 'ZAGG', 'ZAYO', 'ZAZA', 'ZBB', 'ZBRA', 'ZEN', 'ZEUS', 'ZFC', 'ZFGN', 'ZGNX', 'ZINC', 'ZION', 'ZIONW', 'ZIOP', 'ZIV', 'ZIXI', 'ZLTQ', 'ZMH', 'ZMLP', 'ZN', 'ZNGA', 'ZOES', 'ZPIN', 'ZQK', 'ZSL', 'ZSPH', 'ZTR', 'ZTS', 'ZU', 'ZUMZ', 'ZX']\n"
     ]
    }
   ],
   "source": [
    "print(sorted(df['stock'].unique()))"
   ]
  },
  {
   "cell_type": "code",
   "execution_count": 13,
   "id": "5fc05323",
   "metadata": {},
   "outputs": [],
   "source": [
    "aapl_news = df[df['stock'] == 'AAPL'].copy()"
   ]
  },
  {
   "cell_type": "code",
   "execution_count": 15,
   "id": "3e3c5a22",
   "metadata": {},
   "outputs": [
    {
     "data": {
      "text/plain": [
       "(441, 6)"
      ]
     },
     "execution_count": 15,
     "metadata": {},
     "output_type": "execute_result"
    }
   ],
   "source": [
    "aapl_news.shape"
   ]
  },
  {
   "cell_type": "code",
   "execution_count": 17,
   "id": "49a48ddc",
   "metadata": {},
   "outputs": [],
   "source": [
    "aapl_news['date'] = pd.to_datetime(aapl_news['date'], errors='coerce')\n"
   ]
  },
  {
   "cell_type": "code",
   "execution_count": 18,
   "id": "36f6b766",
   "metadata": {},
   "outputs": [],
   "source": [
    "aapl_news['date'] = aapl_news['date'].dt.date"
   ]
  },
  {
   "cell_type": "code",
   "execution_count": 19,
   "id": "eb41c5a2",
   "metadata": {},
   "outputs": [],
   "source": [
    "from textblob import TextBlob\n",
    "\n",
    "# Compute sentiment polarity for each headline\n",
    "aapl_news['sentiment'] = aapl_news['headline'].apply(lambda x: TextBlob(str(x)).sentiment.polarity)\n"
   ]
  },
  {
   "cell_type": "code",
   "execution_count": 20,
   "id": "30b7e451",
   "metadata": {},
   "outputs": [],
   "source": [
    "daily_sentiment = aapl_news.groupby('date')['sentiment'].mean().reset_index()"
   ]
  },
  {
   "cell_type": "code",
   "execution_count": 21,
   "id": "7c85dc2b",
   "metadata": {},
   "outputs": [],
   "source": [
    "df_aple['Date'] = pd.to_datetime(df_aple['Date']).dt.date"
   ]
  },
  {
   "cell_type": "code",
   "execution_count": 22,
   "id": "1ae10c9c",
   "metadata": {},
   "outputs": [],
   "source": [
    "df_aple['daily_return'] = df_aple['Close'].pct_change()"
   ]
  },
  {
   "cell_type": "code",
   "execution_count": 23,
   "id": "24fdad2f",
   "metadata": {},
   "outputs": [],
   "source": [
    "stock_returns = df_aple[['Date', 'daily_return']].copy()"
   ]
  },
  {
   "cell_type": "code",
   "execution_count": 24,
   "id": "857472eb",
   "metadata": {},
   "outputs": [],
   "source": [
    "# Merge on matching dates\n",
    "merged_df = pd.merge(daily_sentiment, stock_returns, left_on='date', right_on='Date')\n",
    "\n",
    "# Drop rows with NA (from pct_change or no sentiment)\n",
    "merged_df.dropna(inplace=True)"
   ]
  },
  {
   "cell_type": "code",
   "execution_count": 27,
   "id": "ad5b5f70",
   "metadata": {},
   "outputs": [
    {
     "data": {
      "text/html": [
       "<div>\n",
       "<style scoped>\n",
       "    .dataframe tbody tr th:only-of-type {\n",
       "        vertical-align: middle;\n",
       "    }\n",
       "\n",
       "    .dataframe tbody tr th {\n",
       "        vertical-align: top;\n",
       "    }\n",
       "\n",
       "    .dataframe thead th {\n",
       "        text-align: right;\n",
       "    }\n",
       "</style>\n",
       "<table border=\"1\" class=\"dataframe\">\n",
       "  <thead>\n",
       "    <tr style=\"text-align: right;\">\n",
       "      <th></th>\n",
       "      <th>date</th>\n",
       "      <th>sentiment</th>\n",
       "      <th>Date</th>\n",
       "      <th>daily_return</th>\n",
       "    </tr>\n",
       "  </thead>\n",
       "  <tbody>\n",
       "    <tr>\n",
       "      <th>0</th>\n",
       "      <td>2020-06-09</td>\n",
       "      <td>0.088333</td>\n",
       "      <td>2020-06-09</td>\n",
       "      <td>0.031578</td>\n",
       "    </tr>\n",
       "    <tr>\n",
       "      <th>1</th>\n",
       "      <td>2020-06-10</td>\n",
       "      <td>0.166919</td>\n",
       "      <td>2020-06-10</td>\n",
       "      <td>0.025728</td>\n",
       "    </tr>\n",
       "  </tbody>\n",
       "</table>\n",
       "</div>"
      ],
      "text/plain": [
       "         date  sentiment        Date  daily_return\n",
       "0  2020-06-09   0.088333  2020-06-09      0.031578\n",
       "1  2020-06-10   0.166919  2020-06-10      0.025728"
      ]
     },
     "execution_count": 27,
     "metadata": {},
     "output_type": "execute_result"
    }
   ],
   "source": [
    "merged_df.head()"
   ]
  },
  {
   "cell_type": "code",
   "execution_count": 25,
   "id": "992108be",
   "metadata": {},
   "outputs": [
    {
     "name": "stdout",
     "output_type": "stream",
     "text": [
      "📈 Correlation between sentiment and stock return: -1.0000\n"
     ]
    }
   ],
   "source": [
    "correlation = merged_df['sentiment'].corr(merged_df['daily_return'])\n",
    "print(f\"📈 Correlation between sentiment and stock return: {correlation:.4f}\")"
   ]
  },
  {
   "cell_type": "code",
   "execution_count": 26,
   "id": "d1c40ee7",
   "metadata": {},
   "outputs": [
    {
     "data": {
      "image/png": "[encoded data removed]",
      "text/plain": [
       "<Figure size 800x600 with 1 Axes>"
      ]
     },
     "metadata": {},
     "output_type": "display_data"
    }
   ],
   "source": [
    "import matplotlib.pyplot as plt\n",
    "\n",
    "plt.figure(figsize=(8, 6))\n",
    "plt.scatter(merged_df['sentiment'], merged_df['daily_return'], alpha=0.6)\n",
    "plt.title(\"Apple (AAPL): Sentiment vs Daily Return\")\n",
    "plt.xlabel(\"Average Daily Sentiment\")\n",
    "plt.ylabel(\"Daily Stock Return\")\n",
    "plt.axhline(0, color='gray', linestyle='--')\n",
    "plt.axvline(0, color='gray', linestyle='--')\n",
    "plt.grid(True)\n",
    "plt.tight_layout()\n",
    "plt.show()"
   ]
  },
  {
   "cell_type": "code",
   "execution_count": null,
   "id": "fd6f4182",
   "metadata": {},
   "outputs": [],
   "source": []
  }
 ],
 "metadata": {
  "kernelspec": {
   "display_name": "venv",
   "language": "python",
   "name": "python3"
  },
  "language_info": {
   "codemirror_mode": {
    "name": "ipython",
    "version": 3
   },
   "file_extension": ".py",
   "mimetype": "text/x-python",
   "name": "python",
   "nbconvert_exporter": "python",
   "pygments_lexer": "ipython3",
   "version": "3.12.4"
  }
 },
 "nbformat": 4,
 "nbformat_minor": 5
}
