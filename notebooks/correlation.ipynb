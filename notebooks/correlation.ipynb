{
 "cells": [
  {
   "cell_type": "code",
   "execution_count": 1,
   "id": "cf1f40f7",
   "metadata": {},
   "outputs": [],
   "source": [
    "import sys\n",
    "import os\n",
    "\n",
    "# Add the parent directory (project root) to sys.path\n",
    "project_root = os.path.abspath(\"..\")\n",
    "if project_root not in sys.path:\n",
    "    sys.path.append(project_root)"
   ]
  },
  {
   "cell_type": "code",
   "execution_count": 2,
   "id": "2eb93841",
   "metadata": {},
   "outputs": [],
   "source": [
    "import numpy as np\n",
    "import pandas as pd\n",
    "import seaborn as sns\n",
    "import matplotlib.pyplot as plt\n",
    "from textblob import TextBlob"
   ]
  },
  {
   "cell_type": "code",
   "execution_count": 3,
   "id": "54716a4e",
   "metadata": {},
   "outputs": [],
   "source": [
    "df = pd.read_csv('../data/raw_analyst_ratings.csv')\n",
    "df_aple = pd.read_csv(f'../data/yfinance_data/AAPL_historical_data.csv')"
   ]
  },
  {
   "cell_type": "code",
   "execution_count": 4,
   "id": "8c51e782",
   "metadata": {},
   "outputs": [],
   "source": [
    "# Ensure datetime type\n",
    "df[\"date\"] = pd.to_datetime(df[\"date\"], format='mixed', utc=True).dt.date\n",
    "df['date'] = pd.to_datetime(df['date'], errors='coerce')\n"
   ]
  },
  {
   "cell_type": "code",
   "execution_count": 5,
   "id": "755be20d",
   "metadata": {},
   "outputs": [],
   "source": [
    "df_aple[\"Date\"] = pd.to_datetime(df_aple[\"Date\"], errors='coerce')"
   ]
  },
  {
   "cell_type": "code",
   "execution_count": 6,
   "id": "155cf75a",
   "metadata": {},
   "outputs": [
    {
     "name": "stdout",
     "output_type": "stream",
     "text": [
      "datetime64[ns]\n"
     ]
    }
   ],
   "source": [
    "print(df_aple[\"Date\"].dtype)"
   ]
  },
  {
   "cell_type": "code",
   "execution_count": 7,
   "id": "5fc05323",
   "metadata": {},
   "outputs": [],
   "source": [
    "from textblob import TextBlob\n",
    "\n",
    "# Filter rows where stock == 'AAPL'\n",
    "df_aapl = df[df['stock'] == 'AAPL'].copy()\n",
    "\n",
    "# Apply sentiment polarity to the headlines in the filtered dataframe\n",
    "df_aapl['sentiment'] = df_aapl['headline'].apply(lambda x: TextBlob(x).sentiment.polarity)"
   ]
  },
  {
   "cell_type": "code",
   "execution_count": 8,
   "id": "3e3c5a22",
   "metadata": {},
   "outputs": [
    {
     "data": {
      "text/plain": [
       "(441, 7)"
      ]
     },
     "execution_count": 8,
     "metadata": {},
     "output_type": "execute_result"
    }
   ],
   "source": [
    "df_aapl.shape"
   ]
  },
  {
   "cell_type": "code",
   "execution_count": 9,
   "id": "49a48ddc",
   "metadata": {},
   "outputs": [],
   "source": [
    "daily_sentiment = df_aapl.groupby('date')['sentiment'].mean().reset_index()"
   ]
  },
  {
   "cell_type": "code",
   "execution_count": 10,
   "id": "77762480",
   "metadata": {},
   "outputs": [
    {
     "name": "stdout",
     "output_type": "stream",
     "text": [
      "80\n",
      "0   2020-03-09\n",
      "1   2020-03-10\n",
      "2   2020-03-11\n",
      "3   2020-03-12\n",
      "4   2020-03-13\n",
      "5   2020-03-14\n",
      "6   2020-03-15\n",
      "7   2020-03-16\n",
      "8   2020-03-17\n",
      "9   2020-03-18\n",
      "Name: date, dtype: datetime64[ns]\n",
      "70   2020-05-25\n",
      "71   2020-05-26\n",
      "72   2020-05-27\n",
      "73   2020-05-28\n",
      "74   2020-05-29\n",
      "75   2020-05-31\n",
      "76   2020-06-01\n",
      "77   2020-06-02\n",
      "78   2020-06-09\n",
      "79   2020-06-10\n",
      "Name: date, dtype: datetime64[ns]\n"
     ]
    }
   ],
   "source": [
    "print(daily_sentiment['date'].nunique())\n",
    "print(daily_sentiment['date'].sort_values().head(10))\n",
    "print(daily_sentiment['date'].sort_values().tail(10))"
   ]
  },
  {
   "cell_type": "code",
   "execution_count": 11,
   "id": "36834036",
   "metadata": {},
   "outputs": [
    {
     "name": "stdout",
     "output_type": "stream",
     "text": [
      "80\n"
     ]
    }
   ],
   "source": [
    "print(df_aapl['date'].nunique())"
   ]
  },
  {
   "cell_type": "code",
   "execution_count": 12,
   "id": "36f6b766",
   "metadata": {},
   "outputs": [],
   "source": [
    "df_aple.sort_values(by='Date', inplace=True)\n",
    "df_aple['daily_return'] = df_aple['Close'].pct_change()\n",
    "\n",
    "# Keep only relevant columns\n",
    "stock_df_filtered = df_aple[['Date', 'Close', 'daily_return']]"
   ]
  },
  {
   "cell_type": "code",
   "execution_count": 13,
   "id": "9caffd10",
   "metadata": {},
   "outputs": [
    {
     "name": "stdout",
     "output_type": "stream",
     "text": [
      "Index(['date', 'sentiment'], dtype='object')\n",
      "datetime64[ns]\n"
     ]
    }
   ],
   "source": [
    "print(daily_sentiment.columns)\n",
    "print(daily_sentiment['date'].dtype)"
   ]
  },
  {
   "cell_type": "code",
   "execution_count": 14,
   "id": "2d581ee2",
   "metadata": {},
   "outputs": [],
   "source": [
    "stock_df_filtered = stock_df_filtered.rename(columns={'Date': 'date'})"
   ]
  },
  {
   "cell_type": "code",
   "execution_count": 15,
   "id": "857472eb",
   "metadata": {},
   "outputs": [],
   "source": [
    "\n",
    "# Now merge on 'date'\n",
    "merged_df = pd.merge(daily_sentiment, stock_df_filtered, on='date', how='inner')\n",
    "\n",
    "# Drop rows with missing values if needed\n",
    "merged_df.dropna(inplace=True)"
   ]
  },
  {
   "cell_type": "code",
   "execution_count": 16,
   "id": "ad5b5f70",
   "metadata": {},
   "outputs": [
    {
     "data": {
      "text/html": [
       "<div>\n",
       "<style scoped>\n",
       "    .dataframe tbody tr th:only-of-type {\n",
       "        vertical-align: middle;\n",
       "    }\n",
       "\n",
       "    .dataframe tbody tr th {\n",
       "        vertical-align: top;\n",
       "    }\n",
       "\n",
       "    .dataframe thead th {\n",
       "        text-align: right;\n",
       "    }\n",
       "</style>\n",
       "<table border=\"1\" class=\"dataframe\">\n",
       "  <thead>\n",
       "    <tr style=\"text-align: right;\">\n",
       "      <th></th>\n",
       "      <th>date</th>\n",
       "      <th>sentiment</th>\n",
       "      <th>Close</th>\n",
       "      <th>daily_return</th>\n",
       "    </tr>\n",
       "  </thead>\n",
       "  <tbody>\n",
       "    <tr>\n",
       "      <th>0</th>\n",
       "      <td>2020-03-09</td>\n",
       "      <td>-0.155556</td>\n",
       "      <td>66.542503</td>\n",
       "      <td>-0.079092</td>\n",
       "    </tr>\n",
       "    <tr>\n",
       "      <th>1</th>\n",
       "      <td>2020-03-10</td>\n",
       "      <td>0.021708</td>\n",
       "      <td>71.334999</td>\n",
       "      <td>0.072022</td>\n",
       "    </tr>\n",
       "    <tr>\n",
       "      <th>2</th>\n",
       "      <td>2020-03-11</td>\n",
       "      <td>0.018624</td>\n",
       "      <td>68.857498</td>\n",
       "      <td>-0.034731</td>\n",
       "    </tr>\n",
       "    <tr>\n",
       "      <th>3</th>\n",
       "      <td>2020-03-12</td>\n",
       "      <td>-0.083048</td>\n",
       "      <td>62.057499</td>\n",
       "      <td>-0.098755</td>\n",
       "    </tr>\n",
       "    <tr>\n",
       "      <th>4</th>\n",
       "      <td>2020-03-13</td>\n",
       "      <td>0.069215</td>\n",
       "      <td>69.492500</td>\n",
       "      <td>0.119808</td>\n",
       "    </tr>\n",
       "  </tbody>\n",
       "</table>\n",
       "</div>"
      ],
      "text/plain": [
       "        date  sentiment      Close  daily_return\n",
       "0 2020-03-09  -0.155556  66.542503     -0.079092\n",
       "1 2020-03-10   0.021708  71.334999      0.072022\n",
       "2 2020-03-11   0.018624  68.857498     -0.034731\n",
       "3 2020-03-12  -0.083048  62.057499     -0.098755\n",
       "4 2020-03-13   0.069215  69.492500      0.119808"
      ]
     },
     "execution_count": 16,
     "metadata": {},
     "output_type": "execute_result"
    }
   ],
   "source": [
    "merged_df.head()"
   ]
  },
  {
   "cell_type": "code",
   "execution_count": 17,
   "id": "992108be",
   "metadata": {},
   "outputs": [
    {
     "name": "stdout",
     "output_type": "stream",
     "text": [
      "📈 Correlation between sentiment and stock return: 0.1589\n"
     ]
    }
   ],
   "source": [
    "correlation = merged_df['sentiment'].corr(merged_df['daily_return'])\n",
    "print(f\"📈 Correlation between sentiment and stock return: {correlation:.4f}\")"
   ]
  },
  {
   "cell_type": "code",
   "execution_count": 18,
   "id": "d1c40ee7",
   "metadata": {},
   "outputs": [
    {
     "data": {
      "image/png": "[encoded data removed]",
      "text/plain": [
       "<Figure size 800x600 with 1 Axes>"
      ]
     },
     "metadata": {},
     "output_type": "display_data"
    }
   ],
   "source": [
    "import matplotlib.pyplot as plt\n",
    "\n",
    "plt.figure(figsize=(8, 6))\n",
    "plt.scatter(merged_df['sentiment'], merged_df['daily_return'], alpha=0.6)\n",
    "plt.title(\"Apple (AAPL): Sentiment vs Daily Return\")\n",
    "plt.xlabel(\"Average Daily Sentiment\")\n",
    "plt.ylabel(\"Daily Stock Return\")\n",
    "plt.axhline(0, color='gray', linestyle='--')\n",
    "plt.axvline(0, color='gray', linestyle='--')\n",
    "plt.grid(True)\n",
    "plt.tight_layout()\n",
    "plt.show()"
   ]
  },
  {
   "cell_type": "markdown",
   "id": "2ebda254",
   "metadata": {},
   "source": [
    "## Overall Observation and Implied Relationship:\n",
    "\n",
    "### Positive Correlation (Slight Tendency):\n",
    "There appears to be a general, albeit weak, positive correlation between average daily sentiment and daily stock return. Points tend to be more concentrated in the top-right and bottom-left quadrants. This suggests that positive sentiment tends to be associated with positive returns, and negative sentiment with negative returns.\n",
    "\n",
    "### No Strong Linear Relationship:\n",
    "While there's a tendency, the points are quite scattered, and there isn't a tight linear pattern. This implies that sentiment is not the sole driver of daily stock returns for Apple. Other market factors, company-specific news, broader economic conditions, etc., likely play significant roles.\n",
    "\n",
    "### Sentiment as an Indicator (but not a perfect predictor):\n",
    "The plot suggests that sentiment can be an indicator of market movement, but it's not a perfect predictor. There are instances where sentiment and return move in opposite directions. For example, some days with moderately positive sentiment result in negative returns (bottom right), and vice-versa (top left).\n",
    "\n",
    "---\n",
    "\n",
    "In conclusion, the scatter plot illustrates that for Apple (AAPL), there's a tendency for daily stock returns to align with daily sentiment, but the relationship is not perfectly strong, indicating that other variables also influence stock price movements."
   ]
  }
 ],
 "metadata": {
  "kernelspec": {
   "display_name": "venv",
   "language": "python",
   "name": "python3"
  },
  "language_info": {
   "codemirror_mode": {
    "name": "ipython",
    "version": 3
   },
   "file_extension": ".py",
   "mimetype": "text/x-python",
   "name": "python",
   "nbconvert_exporter": "python",
   "pygments_lexer": "ipython3",
   "version": "3.12.4"
  }
 },
 "nbformat": 4,
 "nbformat_minor": 5
}
